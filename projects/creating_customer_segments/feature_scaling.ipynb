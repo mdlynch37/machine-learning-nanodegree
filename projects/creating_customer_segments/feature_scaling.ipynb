{
 "cells": [
  {
   "cell_type": "markdown",
   "metadata": {},
   "source": [
    "## Side notes \n",
    "_(code snippets, summaries, resources, etc.)_\n",
    "- Exact videos from Lesson 9 in Intro to Machine Learning.\n",
    "- [Notes from lesson](https://www.evernote.com/shard/s37/nl/1033921319/70be3bf6-4775-4ff5-bdba-f8711033d1c1/) copied from Evernote, straight from html to markdown auto-conversion."
   ]
  },
  {
   "cell_type": "markdown",
   "metadata": {},
   "source": [
    "# Feature Scaling"
   ]
  },
  {
   "cell_type": "markdown",
   "metadata": {},
   "source": [
    "## About Feature Scaling"
   ]
  },
  {
   "cell_type": "markdown",
   "metadata": {},
   "source": [
    "__definition:__ Weights features *so they span comparable ranges*\n",
    "\n",
    "__formula:__\n",
    "\n",
    "<img src=\"feature_scaling_images/CE2B6A88-CBFF-411B-8465-6A6D297EC13A.png\" width=\"594\" height=\"143\" />\n",
    "\n",
    "Where: <img src=\"feature_scaling_images/18B11584-5958-42FE-B462-3792B92C8DB5.png\" width=\"238\" height=\"84\" />\n",
    "\n",
    "NOTE: Outliers create problems with this rescaling method"
   ]
  },
  {
   "cell_type": "markdown",
   "metadata": {},
   "source": [
    "## Quiz: `featureScaling()` function"
   ]
  },
  {
   "cell_type": "markdown",
   "metadata": {},
   "source": [
    "- No need to worry about ZeroDivision error because that would mean min=max and thus data has no variation.\n",
    "- Sklearn has built-in function `sklearn.preprocessing.MinMaxScaler()` for this\n",
    "\n",
    "<img src=\"feature_scaling_images/022BA73B-B85C-4490-BBAF-29A510DF28BE.png\" width=\"436\" height=\"140\" />"
   ]
  },
  {
   "cell_type": "markdown",
   "metadata": {},
   "source": [
    "## `sklearn.preprocessing.MinMaxScaler()`"
   ]
  },
  {
   "cell_type": "markdown",
   "metadata": {},
   "source": [
    "- See: `MinMaxScaler` [documentation](http://scikit-learn.org/stable/modules/generated/sklearn.preprocessing.MinMaxScaler.html) and [tutorial](http://scikit-learn.org/stable/modules/preprocessing.html#scaling-features-to-a-range) \n",
    "- Takes ndarray of floating point numbering as argument\n",
    "\n",
    "__Example from Sklearn in tutorial:__\n",
    "\n",
    "<img src=\"feature_scaling_images/A7995CE3-DB81-48FF-80C4-62886C57B55D.png\" width=\"472\" height=\"163\" />"
   ]
  },
  {
   "cell_type": "markdown",
   "metadata": {},
   "source": [
    "## Feature Scaling Effects on Different Algorithms"
   ]
  },
  {
   "cell_type": "markdown",
   "metadata": {},
   "source": [
    "__Quiz: Which algorithms would be affected by feature scaling?__\n",
    "- These distorting on the algorithms are never useful (“don’t bother using them”)\n",
    "Feature scaling _would distort_ output of _K-Means clustering_ and _SVM with RBF kernel_\n",
    "-   These algorithms work on both dimensions simultaneously, making tradeoffs between multiple dimensions\n",
    "-   Both use a Pythagorean distance calculation from data points for their optimized output\n",
    "-   SVMs maximize the distance of its dividing line from differently labelled data\n",
    "\n",
    "Feature scaling _would not distort_ output of _Decision Trees_ nor _Linear Regressions_\n",
    "- These algorithms *do not* make tradeoffs based on multiple dimensions\n",
    "- Decision Trees work on one dimensions at a time (assessing vertically and horizontally for alternating trees)\n",
    "- Variables in an equation of a Linear Regression do not influence each other\n",
    "    - The coefficient of a scaled input variable is also scaled, but this would not change the value of the output variable"
   ]
  }
 ],
 "metadata": {
  "anaconda-cloud": {},
  "kernelspec": {
   "display_name": "Python [conda env:py2]",
   "language": "python",
   "name": "conda-env-py2-py"
  },
  "language_info": {
   "codemirror_mode": {
    "name": "ipython",
    "version": 2
   },
   "file_extension": ".py",
   "mimetype": "text/x-python",
   "name": "python",
   "nbconvert_exporter": "python",
   "pygments_lexer": "ipython2",
   "version": "2.7.12"
  },
  "nav_menu": {},
  "toc": {
   "navigate_menu": true,
   "number_sections": false,
   "sideBar": true,
   "threshold": 6,
   "toc_cell": false,
   "toc_section_display": "block",
   "toc_window_display": false
  }
 },
 "nbformat": 4,
 "nbformat_minor": 0
}
