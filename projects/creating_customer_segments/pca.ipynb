{
 "cells": [
  {
   "cell_type": "markdown",
   "metadata": {},
   "source": [
    "## Sidenotes (definitions, code snippets, resources, etc.)\n",
    "- This notebook copied from same section, Lesson 12 in Intro to ML course.\n",
    "\n",
    "__ML Algorithms__\n",
    "- A classic way to overfit an algorithm is by using lots of features and not a lot of training data.\n",
    "- _Decision Trees_ are easy to overfit.\n",
    "- classic use of regression is when output/labels consists of continuous data (e.g. from features of house determine its price)"
   ]
  },
  {
   "cell_type": "markdown",
   "metadata": {},
   "source": [
    "# Principlal Component Analysis"
   ]
  },
  {
   "cell_type": "markdown",
   "metadata": {},
   "source": [
    "`sklearn.decomposition`.PCA [Documentation](http://scikit-learn.org/stable/modules/generated/sklearn.decomposition.PCA.html) and [User Guide](http://scikit-learn.org/stable/modules/decomposition.html#pca)\n",
    "- `n_components == min(n_samples, n_features)`\n",
    "- `explained_variance_ratio_` list of eigenvalues for each pricipal component (adds up to 1)\n",
    "- `components_` list of principal components, provided directional information of components\n",
    "- note that visualization might not seem to show orthogonal lines, but this is because of how the scale is done (could cut off based on lower limit)\n",
    "\n",
    "__definition:__ principal component analysis (PCA)\n",
    "- PCA returns straight-line _axes of variation_ as vectors, as well as an importance value for each one\n",
    "    - These two axes define a _coordinate system_ centered around the data.\n",
    "    - the the x-prime vector (like x-axis) is aligned with the _principal axis of variation_ (similar to like regression line, higher importance value of the two)\n",
    "    - the y-prime is vector orthogonal to x-prime (dot product would equal 0)\n",
    "- Part of it's beauty is that it can be useful with data not perfectly 1D, i.e. not well fit to a regression line.\n",
    "- since PCA uses vectors for axis, more versatile than regression y = f(x) with x = c cases (swaps axes)\n",
    "- Importance value\n",
    "    - calculated with an _eigenvalue decomposition_ implemented by PCA (math, will learn later/as needed)\n",
    "    - If x-axis _dominates_ y-axis, that means it has a much higher importance value\n",
    "    - If no axis dominates, PCA output not useful\n",
    "- ![PCA data set examples](pca_images/pca_datasets.png)"
   ]
  },
  {
   "cell_type": "markdown",
   "metadata": {},
   "source": [
    "## Dimensionality in PCA"
   ]
  },
  {
   "cell_type": "markdown",
   "metadata": {},
   "source": [
    "- Examples of one-dimensional data that exist in two-dimensional space, as defined in PCA:\n",
    "    - y = c and x = c (even with noise)\n",
    "    - straight diagonal lines\n",
    "        - appies even when there are small deviations (noise)\n",
    "        - can manipulate (_by rotation and translation only_) with x-prime  and y-prime notation for new axes\n",
    "- Curved lines of data that can be manipulated into 1D representations (like for regressions) are _not_ considered 1D when using PCA.\n",
    "     - ![Exmaple of dimensionality for PCA](pca_images/pca_dimensionality.png)"
   ]
  },
  {
   "cell_type": "markdown",
   "metadata": {},
   "source": [
    "## Simple Examples:"
   ]
  },
  {
   "cell_type": "markdown",
   "metadata": {},
   "source": [
    "- PCA outputs vectors that are normalized to 1\n",
    "- Orthogonal vectors being 1 / (root of two)\n",
    "    - those are x-prime and y-prime, each consisting of a delta-x and delta-y\n",
    "\n",
    "Example 1:\n",
    "![PCA Example 1](pca_images/pca_example_1.png)\n",
    "\n",
    "Example 2:\n",
    "- ++ in image below indicates that the x-prime axis of variation will have much higher important than the other.\n",
    "![PCA Example 2](pca_images/pca_example_2.png)"
   ]
  },
  {
   "cell_type": "markdown",
   "metadata": {},
   "source": [
    "## Measurable vs. Latent Features"
   ]
  },
  {
   "cell_type": "markdown",
   "metadata": {},
   "source": [
    "- folds measurable features into single latent feature (an underlying factor we can determine form intuition)\n",
    "\n",
    "    - e.g. no. of rooms, square-footage of house -> size of house\n",
    "    - e.g. safety of neighborhood, schools nearby -> neighborhood\n",
    "- Can use SelectKBest (or maybe SelectPercentile) to preserve data, but fold into latent aspects"
   ]
  },
  {
   "cell_type": "markdown",
   "metadata": {},
   "source": [
    "## Composite Features"
   ]
  },
  {
   "cell_type": "markdown",
   "metadata": {},
   "source": [
    "- Can make a composite feature (or principle component from PCA!) to measure/represent latent feature\n",
    "    - part of dimensionality reduction and unsupervised learning (covered later in course)\n",
    "    "
   ]
  },
  {
   "cell_type": "markdown",
   "metadata": {},
   "source": [
    "## Determining a Principle Component"
   ]
  },
  {
   "cell_type": "markdown",
   "metadata": {},
   "source": [
    "### Maximal Variance"
   ]
  },
  {
   "cell_type": "markdown",
   "metadata": {},
   "source": [
    "- seeks to minimize information loss when translating into 1D\n",
    "- information lost is proportional to distance from point to line\n",
    "- direction of maximal variance is mathematically defined as line that has least information loss (in aggregate, for all data points)\n",
    "\n",
    "From wiki: (confusing that principle is described as having _higher_ variance of the two components). key: _direction_ of maximal variable, not line with most variance.\n",
    "This transformation is defined in such a way that the first principal component has the largest possible variance (that is, accounts for as much of the variability in the data as possible), and each succeeding component in turn has the highest variance possible under the constraint that it is orthogonal to the preceding components."
   ]
  },
  {
   "cell_type": "markdown",
   "metadata": {},
   "source": [
    "### Maximal Variance and Information Loss"
   ]
  },
  {
   "cell_type": "markdown",
   "metadata": {},
   "source": []
  },
  {
   "cell_type": "markdown",
   "metadata": {},
   "source": [
    "### PCA as a Generalized Algorithm for Feature Transformation"
   ]
  },
  {
   "cell_type": "markdown",
   "metadata": {},
   "source": [
    "- necessary for scale\n",
    "- PCA algorithm will run through all combinations and provide first principal component, second, etc. ranked by importance value\n",
    "- powerful unsupervised learning technique"
   ]
  },
  {
   "cell_type": "markdown",
   "metadata": {},
   "source": [
    "### When to Use PCA"
   ]
  },
  {
   "cell_type": "markdown",
   "metadata": {},
   "source": [
    "![When to use PCA](pca_images/when_to_use_pca.png)"
   ]
  },
  {
   "cell_type": "markdown",
   "metadata": {},
   "source": [
    "## Selecting a Number of Principle Components"
   ]
  },
  {
   "cell_type": "markdown",
   "metadata": {},
   "source": [
    "- Best way of determining this is by testing different no. of components\n",
    "    - like when determining which features to include, from ranked importance/relevance\n",
    "- Note: Do PCA _before_ feature selection (otherwise proceed with caution)"
   ]
  },
  {
   "cell_type": "markdown",
   "metadata": {},
   "source": [
    "## PCA Mini-Project!"
   ]
  },
  {
   "cell_type": "markdown",
   "metadata": {
    "collapsed": true
   },
   "source": [
    "- Eigenfaces code mostly taken from [this example](http://scikit-learn.org/stable/auto_examples/applications/face_recognition.html) from sklearn's documentation.\n",
    "\n",
    "We mentioned that PCA will order the principal components, with the first PC giving the direction of maximal variance, second PC has second-largest variance, and so on. How much of the variance is explained by the first principal component? The second?\n",
    "\n",
    "- _Answer:_ 0.17561573, 0.15863393 (not accepting it, different people got different answers depending on OS, sklearn version, etc.)\n",
    "\n",
    "Visual Output:\n",
    "\n",
    "![eigenfaces visual output](pca_images/eigenfaces_visual_output.png)"
   ]
  },
  {
   "cell_type": "code",
   "execution_count": 1,
   "metadata": {
    "collapsed": false
   },
   "outputs": [
    {
     "name": "stdout",
     "output_type": "stream",
     "text": [
      "\n",
      "===================================================\n",
      "Faces recognition example using eigenfaces and SVMs\n",
      "===================================================\n",
      "\n",
      "The dataset used in this example is a preprocessed excerpt of the\n",
      "\"Labeled Faces in the Wild\", aka LFW_:\n",
      "\n",
      "  http://vis-www.cs.umass.edu/lfw/lfw-funneled.tgz (233MB)\n",
      "\n",
      "  .. _LFW: http://vis-www.cs.umass.edu/lfw/\n",
      "\n",
      "  original source: http://scikit-learn.org/stable/auto_examples/applications/face_recognition.html\n",
      "\n",
      "\n",
      "Total dataset size:\n",
      "n_samples: 1217\n",
      "n_features: 1850\n",
      "n_classes: 6\n",
      "Extracting the top 150 eigenfaces from 912 faces\n",
      "done in 0.146s\n",
      "Projecting the input data on the eigenfaces orthonormal basis\n",
      "done in 0.012s\n",
      "Fitting the classifier to the training set\n",
      "done in 12.065s\n",
      "Best estimator found by grid search:\n",
      "SVC(C=1000.0, cache_size=200, class_weight='balanced', coef0=0.0,\n",
      "  decision_function_shape=None, degree=3, gamma=0.005, kernel='rbf',\n",
      "  max_iter=-1, probability=False, random_state=None, shrinking=True,\n",
      "  tol=0.001, verbose=False)\n",
      "Predicting the people names on the testing set\n",
      "done in 0.046s\n",
      "                   precision    recall  f1-score   support\n",
      "\n",
      "     Ariel Sharon       0.88      0.50      0.64        14\n",
      "     Colin Powell       0.94      0.78      0.86        65\n",
      "  Donald Rumsfeld       0.92      0.70      0.79        33\n",
      "    George W Bush       0.76      0.98      0.86       133\n",
      "Gerhard Schroeder       1.00      0.70      0.82        23\n",
      "       Tony Blair       0.93      0.76      0.84        37\n",
      "\n",
      "      avg / total       0.86      0.84      0.84       305\n",
      "\n",
      "[[  7   0   2   5   0   0]\n",
      " [  0  51   0  14   0   0]\n",
      " [  0   0  23   9   0   1]\n",
      " [  1   1   0 131   0   0]\n",
      " [  0   1   0   5  16   1]\n",
      " [  0   1   0   8   0  28]]\n",
      "\n",
      "Q1: [ 0.17561573  0.15863393]\n"
     ]
    }
   ],
   "source": [
    "from eigenfaces import *\n",
    "# index given slightly differently from list\n",
    "print\n",
    "print \"Q1:\", pca.explained_variance_ratio_[:2]"
   ]
  },
  {
   "cell_type": "markdown",
   "metadata": {},
   "source": [
    "-----\n",
    "Now you'll experiment with keeping different numbers of principal components. In a multiclass classification problem like this one (more than 2 labels to apply), accuracy is a less-intuitive metric than in the 2-class case. Instead, a popular metric is the F1 score.\n",
    "\n",
    "We’ll learn about the F1 score properly in the lesson on evaluation metrics, but you’ll figure out for yourself whether a good classifier is characterized by a high or low F1 score. You’ll do this by varying the number of principal components and watching how the F1 score changes in response.\n",
    "\n",
    "As you add more principal components as features for training your classifier, do you expect it to get better or worse performance?\n",
    "\n",
    "- _Answer:_ Better. Ideally, we hope that adding more components will give us more signal information to improve the classifier performance.\n",
    "\n",
    "Change n_components to the following values: [10, 15, 25, 50, 100, 250]. For each number of principal components, note the F1 score for Ariel Sharon. (For 10 PCs, the plotting functions in the code will break, but you should be able to see the F1 scores.) If you see a higher F1 score, does it mean the classifier is doing better, or worse?\n",
    "\n",
    "- _Answer:_ Better. Higher F1 means better performance of classifier.\n",
    "\n",
    "Do you see any evidence of overfitting when using a large number of PCs? Does the dimensionality reduction of PCA seem to be helping your performance here?\n",
    "\n",
    "- _Answer:_ Yes, the F1 score starts to drop when there are too many PCs."
   ]
  }
 ],
 "metadata": {
  "anaconda-cloud": {},
  "kernelspec": {
   "display_name": "Python 2",
   "language": "python",
   "name": "python2"
  },
  "language_info": {
   "codemirror_mode": {
    "name": "ipython",
    "version": 2
   },
   "file_extension": ".py",
   "mimetype": "text/x-python",
   "name": "python",
   "nbconvert_exporter": "python",
   "pygments_lexer": "ipython2",
   "version": "2.7.12"
  }
 },
 "nbformat": 4,
 "nbformat_minor": 0
}
