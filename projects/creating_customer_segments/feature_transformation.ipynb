{
 "cells": [
  {
   "cell_type": "markdown",
   "metadata": {},
   "source": [
    "## Side notes \n",
    "_(code snippets, summaries, resources, etc.)_\n",
    "\n",
    "__Further reading:__\n",
    "- A Survey of Dimension Reduction Techniques by Imola K. Fodor (2002) PDF in [Evernote](https://www.evernote.com/shard/s37/nl/1033921319/6461873d-2243-4590-bcae-dade71356142/) or [online](http://computation.llnl.gov/casc/sapphire/pubs/148494.pdf)\n",
    "- [An academic paper PDF](http://www.cc.gatech.edu/~isbell/papers/isbell-ica-nips-1999.pdf) on applying ICA to the information retrieval problem written by Charles himself (one of the instructors in the course videos)"
   ]
  },
  {
   "cell_type": "markdown",
   "metadata": {},
   "source": [
    "# Feature Transformation"
   ]
  },
  {
   "cell_type": "markdown",
   "metadata": {},
   "source": [
    "## Summary of topics covered\n",
    "\n",
    "![summary of feature transformation](feature_transformation_images/summary_feature_transformation.png)\n",
    "\n",
    "- PCA is primarily about linear algebra\n",
    "- ICA is primarily about probability\n"
   ]
  },
  {
   "cell_type": "markdown",
   "metadata": {},
   "source": [
    "## Definition"
   ]
  },
  {
   "cell_type": "markdown",
   "metadata": {},
   "source": [
    "NOTE: This lesson only covers linear feature transformations.\n",
    "\n",
    "- Definition is consistent with _feature selection_ as well\n",
    "- In fact, feature selection is a type of feature transformation\n",
    "\n",
    "![feature transformation definition](feature_transformation_images/ft_defintion.png)"
   ]
  },
  {
   "cell_type": "markdown",
   "metadata": {},
   "source": [
    "## Why Feature Transformation?"
   ]
  },
  {
   "cell_type": "markdown",
   "metadata": {},
   "source": [
    "__Example:__ Ad-hoc retrieval problem\n",
    "- This type of information retrieval named \"ad-hoc\" perhaps because query is not known beforehand.\n",
    "    - Known as the \"google problem\"\n",
    "    \n",
    "![why feature transformation?](feature_transformation_images/why_feature_transformation.png)"
   ]
  },
  {
   "cell_type": "markdown",
   "metadata": {},
   "source": [
    "## Independent Components Analysis"
   ]
  },
  {
   "cell_type": "markdown",
   "metadata": {},
   "source": [
    "![ICA overview 1](feature_transformation_images/ica_overview_1.png)\n",
    "\n",
    "- ICA looks to maximize _indepedence_ as opposed to PCA which maximizes _variance_\n",
    "- Fundatmental assumptions behind ICA:\n",
    "    1. Underlying variables are statistically independent\n",
    "    - Observable variables are linear combinations of the hidden variables\n",
    "\n",
    "![ICA overview 2](feature_transformation_images/ica_overview_2.png)"
   ]
  },
  {
   "cell_type": "markdown",
   "metadata": {},
   "source": [
    "## PCA vs ICA"
   ]
  },
  {
   "cell_type": "markdown",
   "metadata": {},
   "source": [
    "__PCA vs ICA quiz:__\n",
    "\n",
    "![PCA vs ICA quiz](feature_transformation_images/pca_vs_ica_quiz.png)\n",
    "\n",
    "![PCA vs ICA continued](feature_transformation_images/pca_vs_ica_cont.png)\n",
    "\n",
    "- BSS means Blind Source Separation problem\n",
    "\n",
    "IMPORTANT:\n",
    "- ICA and other feature selection methods are not only applicable to supervised learning, but are also good for unsupervised learning by revealing the underlying structure of the data, highlighting the causal relationships of different features."
   ]
  },
  {
   "cell_type": "markdown",
   "metadata": {},
   "source": [
    "## Two more feature transformation techniques"
   ]
  },
  {
   "cell_type": "markdown",
   "metadata": {},
   "source": [
    "![RCA and LDA](feature_transformation_images/rca_and_lda.png)\n",
    "\n",
    "- Benefit of RCA is that it is much faster than PCA and ICA"
   ]
  }
 ],
 "metadata": {
  "anaconda-cloud": {},
  "kernelspec": {
   "display_name": "Python 2",
   "language": "python",
   "name": "python2"
  },
  "language_info": {
   "codemirror_mode": {
    "name": "ipython",
    "version": 2
   },
   "file_extension": ".py",
   "mimetype": "text/x-python",
   "name": "python",
   "nbconvert_exporter": "python",
   "pygments_lexer": "ipython2",
   "version": "2.7.12"
  }
 },
 "nbformat": 4,
 "nbformat_minor": 0
}
