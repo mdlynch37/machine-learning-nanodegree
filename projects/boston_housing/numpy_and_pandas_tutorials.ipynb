{
 "cells": [
  {
   "cell_type": "markdown",
   "metadata": {},
   "source": [
    "__numpy:__ for processing large amounts of numerical data\n",
    "- `import numpy as np`\n",
    "- [Numpy Library Documentation](https://docs.scipy.org/doc/numpy-dev/user/quickstart.html)\n",
    "- optimized so that it runs fast, much faster than if you were working with Python lists directly.\n",
    "\n",
    "__panda:__ for storing large datasets with series and dataframes.\n",
    "- `import pandas as pd`\n",
    "- [Pandas Library Documentation](http://pandas.pydata.org/pandas-docs/version/0.17.0/)\n",
    "    - suggested: [boolean indexing](http://pandas.pydata.org/pandas-docs/stable/indexing.html#boolean-indexing)\n",
    "- [Excellent series of tutorials with jupyter notebooks](https://bitbucket.org/hrojas/learn-pandas)\n",
    "- [Intro to Pandas Data Structures, blog post by Greg Reda](www.gregreda.com/2013/10/26/intro-to-pandas-data-structures/)"
   ]
  },
  {
   "cell_type": "markdown",
   "metadata": {},
   "source": [
    "## Data types\n",
    "### `np.ndarray`\n",
    "(aliased as `np.array`)\n",
    "- Numpy arrays are like\n",
    "lists in Python, except that every thing inside an array must be of the\n",
    "same type, like int or float.\n",
    "- You can index, slice, and manipulate a Numpy array much like you would with a\n",
    "a Python list.\n",
    "\n",
    "#### example code\n",
    "```python\n",
    "# a 2D array/Matrix\n",
    "array = np.array([[1, 2, 3], [4, 5, 6]], float)\n",
    "\n",
    "# calculate mean of array-like object (more down below)\n",
    "np.mean(x)\n",
    "\n",
    "# dot product, vector multiplication (see 3rd quiz for more)\n",
    "np.dot(a, b)\n",
    "```\n",
    "    \n",
    "### `pd.Series`\n",
    "- one-dimensional object similar to an array, list, or column in a database.\n",
    "- items can be of different data types\n",
    "- default indexing: [0:N-1]\n",
    "\n",
    "#### example code"
   ]
  },
  {
   "cell_type": "code",
   "execution_count": 1,
   "metadata": {
    "collapsed": false
   },
   "outputs": [
    {
     "name": "stdout",
     "output_type": "stream",
     "text": [
      "True\n",
      "True\n",
      "True\n"
     ]
    }
   ],
   "source": [
    "import pandas as pd\n",
    "\n",
    "# customized indicies\n",
    "cuteness_all = pd.Series(\n",
    "    [1, 2, 3, 4, 5], index=[\n",
    "    'Cockroach', 'Mini Pig', 'Fish', 'Puppy', 'Kitten'])\n",
    "sub_from_indices = cuteness_all[['Fish', 'Puppy', 'Kitten']]  # takes list\n",
    "output_sub_from_indices = pd.Series([\n",
    "    3, 4, 5], index=[\n",
    "    'Fish', 'Puppy', 'Kitten'])\n",
    "print sub_from_indices.equals(output_sub_from_indices)  # True\n",
    "\n",
    "# indexing with boolean operators\n",
    "sub_from_boolean_indexing = cuteness_all[cuteness_all > 2]\n",
    "print output_sub_from_indices.equals(sub_from_boolean_indexing)  # True\n",
    "\n",
    "# applying boolean operators\n",
    "bool_op_on_series = cuteness_all > 2\n",
    "output_bool_op_on_series = pd.Series([\n",
    "    False, False, True, True, True], index=[\n",
    "    'Cockroach', 'Mini Pig', 'Fish', 'Puppy', 'Kitten'])\n",
    "print bool_op_on_series.equals(output_bool_op_on_series)  # True"
   ]
  },
  {
   "cell_type": "markdown",
   "metadata": {},
   "source": [
    "### `pd.DataFrame`\n",
    "- similar to a spreadsheet, a database table, or R's data.frame object\n",
    "- can be created by passing a dictionary of lists to the Dataframe\n",
    "constructor\n",
    "    - dictionary key will be the column name\n",
    "    - the key's associated list or Series will be the values within that column\n",
    "- default indexing of rows: [0:N-1]\n",
    "    - this indexing is preserved as 'location' value even when there is custom indexing \n",
    "- rows and columns accessed similar in dictionary, except:\n",
    "    -  order of row and column interchangeable, for example:\n",
    "        - `df['team'][df['year'] > 2011]` is the same as\n",
    "        - `df[df['year'] > 2011]['team']`\n",
    "    - see code in next cell for more details\n",
    "\n",
    "#### example code"
   ]
  },
  {
   "cell_type": "code",
   "execution_count": 9,
   "metadata": {
    "collapsed": false
   },
   "outputs": [
    {
     "name": "stdout",
     "output_type": "stream",
     "text": [
      "***__str__ representation***\n",
      "   losses     team  wins  year\n",
      "a       5    Bears    11  2010\n",
      "b       8    Bears     8  2011\n",
      "c       6    Bears    10  2012\n",
      "d       1  Packers    15  2011\n",
      "e       5  Packers    11  2012\n",
      "f      10    Lions     6  2010\n",
      "e       6    Lions    10  2011\n",
      "f      12    Lions     4  2012\n"
     ]
    }
   ],
   "source": [
    "from pandas import DataFrame, Series\n",
    "\n",
    "### Creating a DataFrame\n",
    "\n",
    "data = {'year':    [2010, 2011, 2012, 2011,\n",
    "                    2012, 2010, 2011, 2012],\n",
    "        'team':    ['Bears', 'Bears', 'Bears', 'Packers',\n",
    "                    'Packers', 'Lions', 'Lions', 'Lions'],\n",
    "        'wins':    [11, 8, 10, 15,\n",
    "                    11, 6, 10, 4],\n",
    "        'losses':  [5, 8, 6, 1,\n",
    "                    5, 10, 6, 12]}\n",
    "\n",
    "football = DataFrame(data,\n",
    "                     index=['a', 'b', 'c', 'd',\n",
    "                            'e', 'f', 'e', 'f'])\n",
    "df = football\n",
    "print '***__str__ representation***'\n",
    "print df"
   ]
  },
  {
   "cell_type": "code",
   "execution_count": 10,
   "metadata": {
    "collapsed": false
   },
   "outputs": [
    {
     "name": "stdout",
     "output_type": "stream",
     "text": [
      "\n"
     ]
    }
   ],
   "source": [
    "### Accessing data in DataFrame with boolean operators\n",
    "\n",
    "# Row selection by individual index\n",
    "df.loc['b'].equals( df.iloc[1] )  # True, operands return Series\n",
    "df.loc[['b']].equals( df.iloc[[1]] )  # True, operands return DataFrame\n",
    "# Note: DataFrame returned because list as index \n",
    "#     could have more than one item.\n",
    "\n",
    "# Column selection by individual index\n",
    "df['team'].equals( df.team )  # True\n",
    "df[['team', 'wins']].equals( df[[1, 2]] )  # True\n",
    "\n",
    "# Row selection by slicing\n",
    "df[3:5].equals( df.iloc[[1]] )\n",
    "\n",
    "# Row selection by boolean indexing\n",
    "df[df.wins > 10]\n",
    "df[(df.wins > 10) & (df.team == \"Packers\")]\n",
    "df['team'][df.wins > 10]  # returns single column (Series)\n",
    "print  # prepend to lines of code to see return values"
   ]
  },
  {
   "cell_type": "code",
   "execution_count": 4,
   "metadata": {
    "collapsed": false
   },
   "outputs": [
    {
     "name": "stdout",
     "output_type": "stream",
     "text": [
      "\n",
      "\n",
      "***datatype for each column***\n",
      "losses     int64\n",
      "team      object\n",
      "wins       int64\n",
      "year       int64\n",
      "dtype: object\n",
      "\n",
      "***summary stats of numerical columns***\n",
      "          losses       wins         year\n",
      "count   8.000000   8.000000     8.000000\n",
      "mean    6.625000   9.375000  2011.125000\n",
      "std     3.377975   3.377975     0.834523\n",
      "min     1.000000   4.000000  2010.000000\n",
      "25%     5.000000   7.500000  2010.750000\n",
      "50%     6.000000  10.000000  2011.000000\n",
      "75%     8.500000  11.000000  2012.000000\n",
      "max    12.000000  15.000000  2012.000000\n",
      "\n",
      "***first 5 rows of dataset***\n",
      "   losses     team  wins  year\n",
      "a       5    Bears    11  2010\n",
      "b       8    Bears     8  2011\n",
      "c       6    Bears    10  2012\n",
      "d       1  Packers    15  2011\n",
      "e       5  Packers    11  2012\n",
      "\n",
      "***last 5 rows of dataset***\n",
      "   losses     team  wins  year\n",
      "d       1  Packers    15  2011\n",
      "e       5  Packers    11  2012\n",
      "f      10    Lions     6  2010\n",
      "e       6    Lions    10  2011\n",
      "f      12    Lions     4  2012\n"
     ]
    }
   ],
   "source": [
    "### Inspecting DataFrame\n",
    "\n",
    "print '\\n\\n***datatype for each column***'\n",
    "print df.dtypes\n",
    "\n",
    "print '\\n***summary stats of numerical columns***'\n",
    "print df.describe()\n",
    "\n",
    "print '\\n***first 5 rows of dataset***'\n",
    "print df.head()\n",
    "\n",
    "print '\\n***last 5 rows of dataset***'\n",
    "print df.tail()"
   ]
  },
  {
   "cell_type": "markdown",
   "metadata": {
    "collapsed": true
   },
   "source": [
    "#### Pandas Vectorized Methods\n",
    "`numpy.mean(df)`, same as `df.apply(numpy.mean)`\n",
    "- returns new DataFrame `[c x 2]`, where `c` is the number of columns in `df` or otherwise specified\n",
    "- can work with other vectorize methods, but not all\n",
    "- all columns applied to must be numerical\n",
    "- `numpy.mean(df[['wins', 'year']])`, same as:\n",
    "    - `df[['wins', 'year']].apply(numpy.mean)`\n",
    "    \n",
    "`df.applymap(func)`\n",
    "- returns DataFrame of same shape as `df` with values returned by `func`\n",
    "\n",
    "`df[index].map(func)`\n",
    "- applies map only to specified row\n",
    "\n",
    "## Quizes:"
   ]
  },
  {
   "cell_type": "code",
   "execution_count": 5,
   "metadata": {
    "collapsed": false
   },
   "outputs": [
    {
     "name": "stdout",
     "output_type": "stream",
     "text": [
      "4.2380952381\n"
     ]
    }
   ],
   "source": [
    "from pandas import DataFrame, Series\n",
    "import numpy\n",
    "\n",
    "'''\n",
    "Compute the average number of bronze medals earned by countries who \n",
    "earned at least one gold medal.  \n",
    "\n",
    "Save this to a variable named avg_bronze_at_least_one_gold. You do not\n",
    "need to call the function in your code when running it in the browser -\n",
    "the grader will do that automatically when you submit or test it.\n",
    "\n",
    "HINT-1:\n",
    "You can retrieve all of the values of a Pandas column from a \n",
    "data frame, \"df\", as follows:\n",
    "df['column_name']\n",
    "\n",
    "HINT-2:\n",
    "The numpy.mean function can accept as an argument a single\n",
    "Pandas column. \n",
    "\n",
    "For example, numpy.mean(df[\"col_name\"]) would return the \n",
    "mean of the values located in \"col_name\" of a dataframe df.\n",
    "'''\n",
    "\n",
    "countries = ['Russian Fed.', 'Norway', 'Canada', 'United States',\n",
    "             'Netherlands', 'Germany', 'Switzerland', 'Belarus',\n",
    "             'Austria', 'France', 'Poland', 'China', 'Korea', \n",
    "             'Sweden', 'Czech Republic', 'Slovenia', 'Japan',\n",
    "             'Finland', 'Great Britain', 'Ukraine', 'Slovakia',\n",
    "             'Italy', 'Latvia', 'Australia', 'Croatia', 'Kazakhstan']\n",
    "\n",
    "gold = [13, 11, 10, 9, 8, 8, 6, 5, 4, 4, 4, 3, 3, 2, 2, 2, 1, 1, 1, 1, 1, 0, 0, 0, 0, 0]\n",
    "silver = [11, 5, 10, 7, 7, 6, 3, 0, 8, 4, 1, 4, 3, 7, 4, 2, 4, 3, 1, 0, 0, 2, 2, 2, 1, 0]\n",
    "bronze = [9, 10, 5, 12, 9, 5, 2, 1, 5, 7, 1, 2, 2, 6, 2, 4, 3, 1, 2, 1, 0, 6, 2, 1, 0, 1]\n",
    "\n",
    "olympic_medal_counts = {'country_name':Series(countries),\n",
    "                        'gold': Series(gold),\n",
    "                        'silver': Series(silver),\n",
    "                        'bronze': Series(bronze)}\n",
    "df = DataFrame(olympic_medal_counts)\n",
    "\n",
    "# YOUR CODE HERE\n",
    "avg_bronze_at_least_one_gold = df[['bronze']][df.gold > 0].apply(numpy.mean)\n",
    "\n",
    "print float(avg_bronze_at_least_one_gold)\n",
    "### correct output: 4.2380952381"
   ]
  },
  {
   "cell_type": "code",
   "execution_count": 6,
   "metadata": {
    "collapsed": false
   },
   "outputs": [
    {
     "name": "stdout",
     "output_type": "stream",
     "text": [
      "gold      3.807692\n",
      "silver    3.730769\n",
      "bronze    3.807692\n",
      "dtype: float64\n"
     ]
    }
   ],
   "source": [
    "import numpy as np\n",
    "from pandas import DataFrame, Series\n",
    "\n",
    "'''\n",
    "Using the dataframe's apply method, create a new Series called \n",
    "avg_medal_count that indicates the average number of gold, silver,\n",
    "and bronze medals earned amongst countries who earned at \n",
    "least one medal of any kind at the 2014 Sochi olympics.  Note that\n",
    "the countries list already only includes countries that have earned\n",
    "at least one medal. No additional filtering is necessary.\n",
    "\n",
    "You do not need to call the function in your code when running it in the\n",
    "browser - the grader will do that automatically when you submit or test it.\n",
    "'''\n",
    "\n",
    "countries = ['Russian Fed.', 'Norway', 'Canada', 'United States',\n",
    "             'Netherlands', 'Germany', 'Switzerland', 'Belarus',\n",
    "             'Austria', 'France', 'Poland', 'China', 'Korea', \n",
    "             'Sweden', 'Czech Republic', 'Slovenia', 'Japan',\n",
    "             'Finland', 'Great Britain', 'Ukraine', 'Slovakia',\n",
    "             'Italy', 'Latvia', 'Australia', 'Croatia', 'Kazakhstan']\n",
    "\n",
    "gold = [13, 11, 10, 9, 8, 8, 6, 5, 4, 4, 4, 3, 3, 2, 2, 2, 1, 1, 1, 1, 1, 0, 0, 0, 0, 0]\n",
    "silver = [11, 5, 10, 7, 7, 6, 3, 0, 8, 4, 1, 4, 3, 7, 4, 2, 4, 3, 1, 0, 0, 2, 2, 2, 1, 0]\n",
    "bronze = [9, 10, 5, 12, 9, 5, 2, 1, 5, 7, 1, 2, 2, 6, 2, 4, 3, 1, 2, 1, 0, 6, 2, 1, 0, 1]\n",
    "\n",
    "olympic_medal_counts = {'country_name':countries,\n",
    "                        'gold': Series(gold),\n",
    "                        'silver': Series(silver),\n",
    "                        'bronze': Series(bronze)}    \n",
    "df = DataFrame(olympic_medal_counts)\n",
    "    \n",
    "# YOUR CODE HERE\n",
    "avg_medal_count = df[['gold', 'silver', 'bronze']].apply(np.mean)\n",
    "print avg_medal_count\n",
    "### correct output: \n",
    "#   gold      3.807692\n",
    "#   silver    3.730769\n",
    "#   bronze    3.807692\n",
    "    \n"
   ]
  },
  {
   "cell_type": "code",
   "execution_count": 7,
   "metadata": {
    "collapsed": false
   },
   "outputs": [
    {
     "name": "stdout",
     "output_type": "stream",
     "text": [
      "      country_name  points\n",
      "0     Russian Fed.      83\n",
      "1           Norway      64\n",
      "2           Canada      65\n",
      "3    United States      62\n",
      "4      Netherlands      55\n",
      "5          Germany      49\n",
      "6      Switzerland      32\n",
      "7          Belarus      21\n",
      "8          Austria      37\n",
      "9           France      31\n",
      "10          Poland      19\n",
      "11           China      22\n",
      "12           Korea      20\n",
      "13          Sweden      28\n",
      "14  Czech Republic      18\n",
      "15        Slovenia      16\n",
      "16           Japan      15\n",
      "17         Finland      11\n",
      "18   Great Britain       8\n",
      "19         Ukraine       5\n",
      "20        Slovakia       4\n",
      "21           Italy      10\n",
      "22          Latvia       6\n",
      "23       Australia       5\n",
      "24         Croatia       2\n",
      "25      Kazakhstan       1\n"
     ]
    }
   ],
   "source": [
    "### using dot product numpy function\n",
    "import numpy as np\n",
    "from pandas import DataFrame, Series\n",
    "\n",
    "'''\n",
    "Imagine a point system in which each country is awarded 4 points for each\n",
    "gold medal,  2 points for each silver medal, and one point for each \n",
    "bronze medal.  \n",
    "\n",
    "Using the numpy.dot function, create a new dataframe called \n",
    "'olympic_points_df' that includes:\n",
    "    a) a column called 'country_name' with the country name\n",
    "    b) a column called 'points' with the total number of points the country\n",
    "       earned at the Sochi olympics.\n",
    "\n",
    "You do not need to call the function in your code when running it in the\n",
    "browser - the grader will do that automatically when you submit or test it.\n",
    "'''\n",
    "\n",
    "countries = ['Russian Fed.', 'Norway', 'Canada', 'United States',\n",
    "             'Netherlands', 'Germany', 'Switzerland', 'Belarus',\n",
    "             'Austria', 'France', 'Poland', 'China', 'Korea', \n",
    "             'Sweden', 'Czech Republic', 'Slovenia', 'Japan',\n",
    "             'Finland', 'Great Britain', 'Ukraine', 'Slovakia',\n",
    "             'Italy', 'Latvia', 'Australia', 'Croatia', 'Kazakhstan']\n",
    "\n",
    "gold = [13, 11, 10, 9, 8, 8, 6, 5, 4, 4, 4, 3, 3, 2, 2, 2, 1, 1, 1, 1, 1, 0, 0, 0, 0, 0]\n",
    "silver = [11, 5, 10, 7, 7, 6, 3, 0, 8, 4, 1, 4, 3, 7, 4, 2, 4, 3, 1, 0, 0, 2, 2, 2, 1, 0]\n",
    "bronze = [9, 10, 5, 12, 9, 5, 2, 1, 5, 7, 1, 2, 2, 6, 2, 4, 3, 1, 2, 1, 0, 6, 2, 1, 0, 1]\n",
    "\n",
    "# YOUR CODE HERE\n",
    "\n",
    "# data parameter ordered alphabetically \n",
    "# to match DataFrame auto-sorted representation\n",
    "df = DataFrame(\n",
    "    index=countries,\n",
    "    data={'bronze': bronze, 'gold': gold, 'silver': silver}\n",
    "              )\n",
    "\n",
    "# index ordered alphabetically for compatibility with\n",
    "# DataFrame column ordering (sorted)\n",
    "points_for_medals = Series(\n",
    "    index=['bronze', 'gold', 'silver'],\n",
    "    data=[1, 4, 2]\n",
    "                          )\n",
    "\n",
    "points = np.dot(df, points_for_medals)\n",
    "# points = np.dot(df, [1, 4, 2]) would work too\n",
    "\n",
    "olympic_points_df = DataFrame({'country_name': countries, 'points': points})\n",
    "\n",
    "# # alternative solution using only pandas (needs extra work)\n",
    "# df['points'] = df[['gold','silver','bronze']].dot([4, 2, 1]) \n",
    "# olympic_points_df = df[['country_name','points']]\n",
    "\n",
    "print olympic_points_df"
   ]
  }
 ],
 "metadata": {
  "anaconda-cloud": {},
  "kernelspec": {
   "display_name": "Python 2",
   "language": "python",
   "name": "python2"
  },
  "language_info": {
   "codemirror_mode": {
    "name": "ipython",
    "version": 2
   },
   "file_extension": ".py",
   "mimetype": "text/x-python",
   "name": "python",
   "nbconvert_exporter": "python",
   "pygments_lexer": "ipython2",
   "version": "2.7.12"
  }
 },
 "nbformat": 4,
 "nbformat_minor": 0
}
