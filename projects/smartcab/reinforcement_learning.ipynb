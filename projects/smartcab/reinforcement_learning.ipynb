{
 "cells": [
  {
   "cell_type": "markdown",
   "metadata": {},
   "source": [
    "## Side notes \n",
    "_(code snippets, summaries, resources, etc.)_\n",
    "\n",
    "__Resources:__\n",
    "- A full proof of the convergence of Q-learning, written by the creator of Q-learning, can be found [here](http://www.gatsby.ucl.ac.uk/~dayan/papers/cjch.pdf)\n",
    "- [This paper](https://www.jair.org/media/301/live-301-1562-jair.pdf) offers a summary and an investigation of the field of reinforcement learning. It's long, but chock-full of information!\n",
    "\n",
    "\n",
    "__Key terms:__\n",
    "- Reinforcement Learning more accurately described as _reward maximization_"
   ]
  },
  {
   "cell_type": "markdown",
   "metadata": {},
   "source": [
    "# Reinforcement Learning"
   ]
  },
  {
   "cell_type": "markdown",
   "metadata": {},
   "source": [
    "## Summary of topics covered\n",
    "![summary of Reinforcement Learning](reinforcement_learning_images/summary_reinforcement_learning.png)\n",
    "\n",
    "Note: function approximation briefly previewed (not in Udacity syllabus)."
   ]
  },
  {
   "cell_type": "markdown",
   "metadata": {},
   "source": [
    "## RL \"API\""
   ]
  },
  {
   "cell_type": "markdown",
   "metadata": {},
   "source": [
    "![RL API 1](reinforcement_learning_images/rl_api_1.png)\n",
    "\n",
    "![RL API 2](reinforcement_learning_images/rl_api_2.png)\n",
    "\n",
    "![RL API 3](reinforcement_learning_images/rl_api_3.png)"
   ]
  },
  {
   "cell_type": "markdown",
   "metadata": {},
   "source": [
    "## Three Approaches to RL"
   ]
  },
  {
   "cell_type": "markdown",
   "metadata": {},
   "source": [
    "![Three approaches to RL](reinforcement_learning_images/three_approches_rl.png)"
   ]
  },
  {
   "cell_type": "markdown",
   "metadata": {},
   "source": [
    "## Q Learning: A New Kind of Value Function"
   ]
  },
  {
   "cell_type": "markdown",
   "metadata": {},
   "source": [
    "![Q Learning 1](reinforcement_learning_images/q_learning_1.png)\n",
    "\n",
    "![Q Learning 2](reinforcement_learning_images/q_learning_2.png)\n",
    "\n",
    "![Q Learning 3](reinforcement_learning_images/q_learning_3.png)"
   ]
  },
  {
   "cell_type": "markdown",
   "metadata": {},
   "source": [
    "### Estimating Q From Transitions"
   ]
  },
  {
   "cell_type": "markdown",
   "metadata": {},
   "source": [
    "![Estimating Q from transitions 1](reinforcement_learning_images/estimating_q_1.png)\n",
    "\n",
    "![Estimating Q from transitions 2](reinforcement_learning_images/estimating_q_2.png)"
   ]
  },
  {
   "cell_type": "markdown",
   "metadata": {},
   "source": [
    "### Learning Incrementally"
   ]
  },
  {
   "cell_type": "markdown",
   "metadata": {},
   "source": [
    "![Learning Incrementally](reinforcement_learning_images/learning_incrementally.png)"
   ]
  },
  {
   "cell_type": "markdown",
   "metadata": {},
   "source": [
    "### Q-Learning Convergence"
   ]
  },
  {
   "cell_type": "markdown",
   "metadata": {},
   "source": [
    "![Q-Learning Convergence](reinforcement_learning_images/q_convergence.png)"
   ]
  },
  {
   "cell_type": "markdown",
   "metadata": {},
   "source": [
    "### Choosing Actions"
   ]
  },
  {
   "cell_type": "markdown",
   "metadata": {},
   "source": [
    "![Choosing Actions 1](reinforcement_learning_images/choosing_actions_1.png)\n",
    "\n",
    "![Choosing Actions 2](reinforcement_learning_images/choosing_actions_2.png)"
   ]
  },
  {
   "cell_type": "markdown",
   "metadata": {},
   "source": [
    "### $\\epsilon$-Greedy Exploration"
   ]
  },
  {
   "cell_type": "markdown",
   "metadata": {},
   "source": [
    "![Epsilon Greedy Exploration](reinforcement_learning_images/epsilon_greedy_exploration.png)"
   ]
  }
 ],
 "metadata": {
  "anaconda-cloud": {},
  "kernelspec": {
   "display_name": "Python [default]",
   "language": "python",
   "name": "python2"
  },
  "language_info": {
   "codemirror_mode": {
    "name": "ipython",
    "version": 2
   },
   "file_extension": ".py",
   "mimetype": "text/x-python",
   "name": "python",
   "nbconvert_exporter": "python",
   "pygments_lexer": "ipython2",
   "version": "2.7.12"
  }
 },
 "nbformat": 4,
 "nbformat_minor": 0
}
