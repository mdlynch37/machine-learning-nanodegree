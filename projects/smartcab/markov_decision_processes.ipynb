{
 "cells": [
  {
   "cell_type": "markdown",
   "metadata": {},
   "source": [
    "## Side notes \n",
    "_(code snippets, summaries, resources, etc.)_\n",
    "\n",
    "__Resources:__\n",
    "- See Chapter 17 of Artificial Intelligence: A Modern Approach by Stuart Russell & Peter Norvig, in [Evernote](https://www.evernote.com/shard/s37/nl/1033921335/9bb2e236-fe9c-4c74-bf25-cf4050f63ad8/)\n",
    "\n",
    "__Key terms:__\n",
    "- Markovian property\n",
    "    - Only current state matters\n",
    "    - Rules don't change\n",
    "    - Past actions can be integrated into current state\n",
    "    - Cannot integrate entire history into current state because then there will be no unique states\n",
    "- (Temporal) Credit Assignment Problem"
   ]
  },
  {
   "cell_type": "markdown",
   "metadata": {},
   "source": [
    "# Markov Decision Processes"
   ]
  },
  {
   "cell_type": "markdown",
   "metadata": {},
   "source": [
    "## Summary of topics covered\n",
    "![summary of Markov Decision Processes](markov_decision_processes_images/summary_markov_decision_processes.png)"
   ]
  },
  {
   "cell_type": "markdown",
   "metadata": {},
   "source": [
    "## Quiz: The World"
   ]
  },
  {
   "cell_type": "markdown",
   "metadata": {},
   "source": [
    "![Quiz: The World 1](markov_decision_processes_images/quiz_the_world_1.png)\n",
    "\n",
    "![Quiz: The World 2](markov_decision_processes_images/quiz_the_world_2.png)"
   ]
  },
  {
   "cell_type": "markdown",
   "metadata": {},
   "source": [
    "## Markov Decision Processes"
   ]
  },
  {
   "cell_type": "markdown",
   "metadata": {},
   "source": [
    "![MDP 1](markov_decision_processes_images/mdp_1.png)\n",
    "\n",
    "![MDP 2](markov_decision_processes_images/mdp_2.png)"
   ]
  },
  {
   "cell_type": "markdown",
   "metadata": {},
   "source": [
    "## More About Rewards"
   ]
  },
  {
   "cell_type": "markdown",
   "metadata": {},
   "source": [
    "![MDP Rewards](markov_decision_processes_images/mdp_rewards.png)"
   ]
  },
  {
   "cell_type": "markdown",
   "metadata": {},
   "source": [
    "## Sequences of Rewards: Assumptions"
   ]
  },
  {
   "cell_type": "markdown",
   "metadata": {},
   "source": [
    "![Sequence of rewards 1](markov_decision_processes_images/sequence_of_rewards_1.png)\n",
    "\n",
    "![Sequence of rewards 2](markov_decision_processes_images/sequence_of_rewards_2.png)\n",
    "\n",
    "![Sequence of rewards 3](markov_decision_processes_images/sequence_of_rewards_3.png)\n",
    "\n",
    "![Sequence of rewards 4](markov_decision_processes_images/sequence_of_rewards_4.png)\n",
    "\n",
    "![Sequence of rewards 5](markov_decision_processes_images/sequence_of_rewards_5.png)"
   ]
  },
  {
   "cell_type": "markdown",
   "metadata": {},
   "source": [
    "## Policies"
   ]
  },
  {
   "cell_type": "markdown",
   "metadata": {},
   "source": [
    "![Policies](markov_decision_processes_images/policies.png)"
   ]
  },
  {
   "cell_type": "markdown",
   "metadata": {},
   "source": [
    "## Finding Policies"
   ]
  },
  {
   "cell_type": "markdown",
   "metadata": {},
   "source": [
    "![Finding policies 1](markov_decision_processes_images/finding_policies_1.png)\n",
    "\n",
    "![Finding policies 2](markov_decision_processes_images/finding_policies_2.png)\n",
    "\n",
    "![Finding policies 3](markov_decision_processes_images/finding_policies_3.png)\n",
    "\n",
    "![Finding policies 4](markov_decision_processes_images/finding_policies_4.png)"
   ]
  }
 ],
 "metadata": {
  "anaconda-cloud": {},
  "kernelspec": {
   "display_name": "Python [default]",
   "language": "python",
   "name": "python2"
  },
  "language_info": {
   "codemirror_mode": {
    "name": "ipython",
    "version": 2
   },
   "file_extension": ".py",
   "mimetype": "text/x-python",
   "name": "python",
   "nbconvert_exporter": "python",
   "pygments_lexer": "ipython2",
   "version": "2.7.12"
  }
 },
 "nbformat": 4,
 "nbformat_minor": 0
}
