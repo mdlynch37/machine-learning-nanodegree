{
 "cells": [
  {
   "cell_type": "markdown",
   "metadata": {},
   "source": [
    "# P4: Smartcab"
   ]
  },
  {
   "cell_type": "markdown",
   "metadata": {},
   "source": [
    "## Implement a Basic Driving Agent"
   ]
  },
  {
   "cell_type": "markdown",
   "metadata": {},
   "source": [
    "To begin, your only task is to get the **smartcab** to move around in the environment. At this point, you will not be concerned with any sort of optimal driving policy. Note that the driving agent is given the following information at each intersection:\n",
    "- The next waypoint location relative to its current location and heading.\n",
    "- The state of the traffic light at the intersection and the presence of oncoming vehicles from other directions.\n",
    "- The current time left from the allotted deadline.\n",
    "\n",
    "To complete this task, simply have your driving agent choose a random action from the set of possible actions `(None, 'forward', 'left', 'right')` at each intersection, disregarding the input information above. Set the simulation deadline enforcement, `enforce_deadline` to `False` and observe how it performs."
   ]
  },
  {
   "cell_type": "markdown",
   "metadata": {},
   "source": [
    "***QUESTION:*** *Observe what you see with the agent's behavior as it takes random actions. Does the **smartcab** eventually make it to the destination? Are there any other interesting observations to note?*"
   ]
  },
  {
   "cell_type": "markdown",
   "metadata": {},
   "source": [
    "***ANSWER:***\n",
    "\n",
    "The instructions for this question explicitly state that these random actions disregarding _the state of the traffic light_. Since the already-coded `Environment.act()` flags `move_okay` depending on what action the agent wants to take and the state of the traffic light, I would have to change this method or write a new one (which does not make sense) to follow these instructions fully.\n",
    "\n",
    "However, we can more easily disregard the other inputs assessed outside of `Environment.act()` and assign random actions to our agent. By doing this we can see that our agent does make it to the destination in most cases. In the other cases it runs up against the `hard_time_limit` set to `-100`."
   ]
  },
  {
   "cell_type": "markdown",
   "metadata": {},
   "source": [
    "## Inform the Driving Agent"
   ]
  },
  {
   "cell_type": "markdown",
   "metadata": {},
   "source": [
    "***Instructions:***\n",
    "\n",
    "Now that your driving agent is capable of moving around in the environment, your next task is to identify a set of states that are appropriate for modeling the **smartcab** and environment. The main source of state variables are the current inputs at the intersection, but not all may require representation. You may choose to explicitly define states, or use some combination of inputs as an implicit state. At each time step, process the inputs and update the agent's current state using the `self.state` variable. Continue with the simulation deadline enforcement `enforce_deadline` being set to `False`, and observe how your driving agent now reports the change in state as the simulation progresses."
   ]
  },
  {
   "cell_type": "markdown",
   "metadata": {},
   "source": [
    "***Notes:***\n",
    "\n",
    "Rewards:\n",
    "- `+=10.0` for each successfully completed trip, determined by:\n",
    "    - ~~L1 distance to destination: int~~\n",
    "    - rather, `Environment.agent_state[LearningAgent]['location']`\n",
    "-  `+2.0` for each action it executes successfully that obeys traffic rules (a legal action), determined by:\n",
    "    - inputs from `Environment.sense()`\n",
    "-  `+0.0` for any null action, determined by:\n",
    "    - inputs from `Environment.sense()`\n",
    "-  `-0.5` for action not prescribed but legal, determined by:\n",
    "    - inputs from `Environment.sense()`\n",
    "    - `LearningAgent.next_waypoint`\n",
    "-  `-1.0` for an action that violates traffic rules (illegal action), determined by:\n",
    "    - inputs from `Environment.sense()`\n",
    "\n",
    "State description options:\n",
    "- L1 distance to destination: int\n",
    "- light: 'green', 'red'\n",
    "- oncoming: 'forward', 'left', 'right'\n",
    "- left: 'forward', 'left', 'right'\n",
    "- right: 'forward', 'left', 'right'\n",
    "- next_waypoint\n",
    "\n",
    "\n",
    "What info needs to be in a state?\n",
    "- Characteristics that would determine an action's reward taken from that state.\n",
    "- i.e. enough info in `s` to give correct output for $R(s)$, reward function.\n",
    "\n",
    "```python\n",
    "self.ActionsLegality = \\\n",
    "    namedtuple('ActionsLegality',\n",
    "               ['no_action', 'forward',\n",
    "                'left', 'right'])\n",
    "self.State = namedtuple('State', \n",
    "                ['next_waypoint', 'actions_legality'])\n",
    "```\n",
    "---\n",
    "***More efficient state description is:***\n",
    "\n",
    "```python\n",
    "self.State = namedtuple('State', ['next_waypoint', 'okay_moves'])\n",
    "self.OKAY_MOVES = ('all', 'all but left', 'right on red', 'none')\n",
    "```\n",
    "States in total: 12\n",
    "\n",
    "---\n",
    "\n",
    "i.e. \n",
    "1. Green light - no oncoming traffic (all actions)\n",
    "- Green light - oncoming traffic (no left turn)\n",
    "- Red light - no oncoming traffic (right turn only)\n",
    "- Red light - oncoming traffic from left (no actions)\n",
    "\n",
    "```\n",
    "State(next_waypoint='left', actions_legality=ActionsLegality(no_action=True, forward=True, left=True, right=True))\n",
    "State(next_waypoint='left', actions_legality=ActionsLegality(no_action=True, forward=True, left=False, right=True))\n",
    "State(next_waypoint='left', actions_legality=ActionsLegality(no_action=True, forward=False, left=False, right=True))\n",
    "State(next_waypoint='left', actions_legality=ActionsLegality(no_action=True, forward=False, left=False, right=False))\n",
    "\n",
    "State(next_waypoint='right', actions_legality=ActionsLegality(no_action=True, forward=True, left=True, right=True))\n",
    "State(next_waypoint='right', actions_legality=ActionsLegality(no_action=True, forward=True, left=False, right=True))\n",
    "State(next_waypoint='right', actions_legality=ActionsLegality(no_action=True, forward=False, left=False, right=True))\n",
    "State(next_waypoint='right', actions_legality=ActionsLegality(no_action=True, forward=False, left=False, right=False))\n",
    "\n",
    "State(next_waypoint='forward', actions_legality=ActionsLegality(no_action=True, forward=True, left=True, right=True))\n",
    "State(next_waypoint='forward', actions_legality=ActionsLegality(no_action=True, forward=True, left=False, right=True))\n",
    "State(next_waypoint='forward', actions_legality=ActionsLegality(no_action=True, forward=False, left=False, right=True))\n",
    "State(next_waypoint='forward', actions_legality=ActionsLegality(no_action=True, forward=False, left=False, right=False))\n",
    "```"
   ]
  },
  {
   "cell_type": "markdown",
   "metadata": {},
   "source": [
    "***QUESTION:*** What states have you identified that are appropriate for modeling the smartcab and environment? Why do you believe each of these states to be appropriate for this problem?"
   ]
  },
  {
   "cell_type": "markdown",
   "metadata": {},
   "source": [
    "***ANSWER:***\n",
    "\n",
    "The determining factors for our state description are what aspects of a state are tied to rewards for an action from that state. \n",
    "\n",
    "Since rewards rely on whether the learning agent has followed (or not followed) traffic and safety laws and whether it has moved toward the destination as per the planner's `next_waypoint` returned value, we can combine inputs into a succinct description:\n",
    "```python\n",
    "self.State = namedtuple('State', ['next_waypoint', 'okay_moves'])\n",
    "self.OKAY_MOVES = ('all', 'all but left', 'right on red', 'none')\n",
    "```"
   ]
  },
  {
   "cell_type": "markdown",
   "metadata": {},
   "source": [
    "OPTIONAL: How many states in total exist for the smartcab in this environment? Does this number seem reasonable given that the goal of Q-Learning is to learn and make informed decisions about each state? Why or why not?"
   ]
  },
  {
   "cell_type": "markdown",
   "metadata": {},
   "source": [
    "ANSWER: With only 12 possible states given its description (3 * 4), Q-Learning can quickly determine the optimal policy based on our model's rewards"
   ]
  },
  {
   "cell_type": "markdown",
   "metadata": {},
   "source": [
    "## Implement a Q-Learning Driving Agent"
   ]
  },
  {
   "cell_type": "markdown",
   "metadata": {},
   "source": [
    "***Instructions:***\n",
    "With your driving agent being capable of interpreting the input information and having a mapping of environmental states, your next task is to implement the Q-Learning algorithm for your driving agent to choose the best action at each time step, based on the Q-values for the current state and action. Each action taken by the **smartcab** will produce a reward which depends on the state of the environment. The Q-Learning driving agent will need to consider these rewards when updating the Q-values. Once implemented, set the simulation deadline enforcement `enforce_deadline` to `True`. Run the simulation and observe how the **smartcab** moves about the environment in each trial.\n",
    "\n",
    "The formulas for updating Q-values can be found in [this] video.\n",
    "\n",
    "[this]:https://classroom.udacity.com/nanodegrees/nd009/parts/0091345409/modules/e64f9a65-fdb5-4e60-81a9-72813beebb7e/lessons/5446820041/concepts/6348990570923"
   ]
  },
  {
   "cell_type": "markdown",
   "metadata": {},
   "source": [
    "***Notes:***\n",
    "\n",
    "Pseudocode of algorithm:\n",
    "\n",
    "1. determine state value\n",
    "- use probaility $\\epsilon$ to decide whether to take random action or use best according to q-value\n",
    "- decay $\\epsilon$\n",
    "- take action, get reward\n",
    "- determine new state value\n",
    "- use $<s, a, r, s'>$ to update Q value (of $s$ with $a$)\n",
    "\n",
    "NOTE: Modified version of above to so an accurate determination of the next state from the next step. Essentially it looks back to previous state after determine $s'$\n",
    "\n",
    "Good discussion:\n",
    "https://discussions.udacity.com/t/qtable-content-example/178397/20"
   ]
  },
  {
   "cell_type": "markdown",
   "metadata": {},
   "source": [
    "***QUESTION:*** What changes do you notice in the agent's behavior when compared to the basic driving agent when random actions were always taken? Why is this behavior occurring?"
   ]
  },
  {
   "cell_type": "markdown",
   "metadata": {},
   "source": [
    "***ANSWER:***\n",
    "\n",
    "As the learning agent progresses through the trials, it begins to take actions toward the destination more frequently. These actions also begin to follow traffic rules more often."
   ]
  },
  {
   "cell_type": "markdown",
   "metadata": {},
   "source": [
    "## Improve the Q-Learning Driving Agent"
   ]
  },
  {
   "cell_type": "markdown",
   "metadata": {},
   "source": [
    "***Instructions:***\n",
    "\n",
    "Your final task for this project is to enhance your driving agent so that, after sufficient training, the **smartcab** is able to reach the destination within the allotted time safely and efficiently. Parameters in the Q-Learning algorithm, such as the learning rate (`alpha`), the discount factor (`gamma`) and the exploration rate (`epsilon`) all contribute to the driving agent’s ability to learn the best action for each state. To improve on the success of your **smartcab**:\n",
    "\n",
    "- Set the number of trials, `n_trials`, in the simulation to 100.\n",
    "- Run the simulation with the deadline enforcement `enforce_deadline` set to `True` (you will need to reduce the update delay `update_delay` and set the `display` to `False`).\n",
    "- Observe the driving agent’s learning and **smartcab’s** success rate, particularly during the later trials.\n",
    "- Adjust one or several of the above parameters and iterate this process.\n",
    "\n",
    "This task is complete once you have arrived at what you determine is the best combination of parameters required for your driving agent to learn successfully."
   ]
  },
  {
   "cell_type": "code",
   "execution_count": null,
   "metadata": {
    "collapsed": true
   },
   "outputs": [],
   "source": []
  },
  {
   "cell_type": "markdown",
   "metadata": {},
   "source": [
    "***Notes:***\n",
    "\n"
   ]
  },
  {
   "cell_type": "markdown",
   "metadata": {},
   "source": [
    "***QUESTION:*** Report the different values for the parameters tuned in your basic implementation of Q-Learning. For which set of parameters does the agent perform best? How well does the final driving agent perform?"
   ]
  },
  {
   "cell_type": "markdown",
   "metadata": {},
   "source": [
    "***ANSWER:***\n",
    "\n"
   ]
  },
  {
   "cell_type": "markdown",
   "metadata": {},
   "source": [
    "***QUESTION:*** Does your agent get close to finding an optimal policy, i.e. reach the destination in the minimum possible time, and not incur any penalties? How would you describe an optimal policy for this problem?"
   ]
  },
  {
   "cell_type": "markdown",
   "metadata": {},
   "source": [
    "***ANSWER:***\n",
    "\n"
   ]
  }
 ],
 "metadata": {
  "anaconda-cloud": {},
  "kernelspec": {
   "display_name": "Python [conda env:python2]",
   "language": "python",
   "name": "conda-env-python2-py"
  },
  "language_info": {
   "codemirror_mode": {
    "name": "ipython",
    "version": 2
   },
   "file_extension": ".py",
   "mimetype": "text/x-python",
   "name": "python",
   "nbconvert_exporter": "python",
   "pygments_lexer": "ipython2",
   "version": "2.7.12"
  }
 },
 "nbformat": 4,
 "nbformat_minor": 0
}
