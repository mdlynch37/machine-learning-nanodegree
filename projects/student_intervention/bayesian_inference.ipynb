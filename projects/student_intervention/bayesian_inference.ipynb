{
 "cells": [
  {
   "cell_type": "markdown",
   "metadata": {},
   "source": [
    "## Side notes\n",
    "_(code snippets, summaries, resources, etc.)_\n",
    "- Provides extra explanation: [_Bayesian Inference_ PDF by Udactiy](https://www.evernote.com/shard/s37/nl/1033921335/c9b21559-4ba2-40fe-a9ab-a3c088c5f372/) (Evernote)\n",
    "- Screenshots for each video slide in bayesian_inference_images/ but only summary added to notebook.\n",
    "- Confused by course videos\n",
    "\n",
    "__Words to understand:__ (from uncovered material)\n",
    "- \"Notion of generation\" (from course video [Naive Bayes](https://classroom.udacity.com/nanodegrees/nd009/parts/0091345404/modules/5c2f3b47-b791-46a7-88eb-34a0753665e6/lessons/5473478841/concepts/4822286280923))\n",
    "\n",
    "__Notes on math used:__\n",
    "- "
   ]
  },
  {
   "cell_type": "markdown",
   "metadata": {},
   "source": [
    "# Bayesian Inference"
   ]
  },
  {
   "cell_type": "markdown",
   "metadata": {},
   "source": [
    "## Summary of topics covered"
   ]
  },
  {
   "cell_type": "markdown",
   "metadata": {},
   "source": [
    "Section shows how using inference with the Naive Bayes case allows us to do classification in a way that is tractable, and is the correct method given certain assumptions (which are..??).\n",
    "- Links Bayesian Learning to classfication _and_ connect classification to the general notion of Bayesian Learning and Bayesian Inference so that\n",
    "    - We don't have to worry about just figuring out the most likely label given certain attributes, but because it's a Bayes Network which allows us to easily compute the likelihood of all combinations of attributes, given a label or a subset of attributes on all those kinds of things you could do with Bayesian Learning.\n",
    "    - So inference gives us the power to do classfications as well as a larger set of things beyond classfication\n",
    "    - Importantly, it can handle missing attributes very well\n",
    "    - \"Wraps up classification and regression more generally\"\n",
    "\n",
    "![summary](bayesian_inference_images/summary.png)\n",
    "\n",
    "- Naive Bayes is _naive_ because it assumes attributes are independent from one another, only conditioned on the label.\n"
   ]
  },
  {
   "cell_type": "markdown",
   "metadata": {},
   "source": [
    "## Joint Distribution"
   ]
  },
  {
   "cell_type": "markdown",
   "metadata": {},
   "source": [
    "![joint distribution](bayesian_inference_images/joint_distribution.png)\n",
    "\n",
    "NOTE on quiz: P(lightning|storm) should be 0.25/0.65 = 0.3846.\n",
    "\n",
    "Probabilities increase exponentially with each added variable.\n",
    "- Need a way to factor this\n",
    "- Can use _conditional independence rule_ for that\n",
    "\n",
    "We can say: \"Thunder is conditionally independent of storm given lightening\"\n"
   ]
  },
  {
   "cell_type": "markdown",
   "metadata": {},
   "source": [
    "### Adding Attributes"
   ]
  },
  {
   "cell_type": "markdown",
   "metadata": {},
   "source": [
    "![adding attributes](bayesian_inference_images/adding_attributes.png)"
   ]
  },
  {
   "cell_type": "markdown",
   "metadata": {},
   "source": [
    "## Conditional Independence"
   ]
  },
  {
   "cell_type": "markdown",
   "metadata": {},
   "source": [
    "### Conditional Independence Rule"
   ]
  },
  {
   "cell_type": "markdown",
   "metadata": {},
   "source": [
    "![conditional independence](bayesian_inference_images/conditional_independence.png)"
   ]
  },
  {
   "cell_type": "markdown",
   "metadata": {},
   "source": [
    "### Conditional Quiz"
   ]
  },
  {
   "cell_type": "markdown",
   "metadata": {},
   "source": [
    "![conditional quiz](bayesian_inference_images/conditional_quiz.png)\n"
   ]
  },
  {
   "cell_type": "markdown",
   "metadata": {},
   "source": [
    "## Belief Network"
   ]
  },
  {
   "cell_type": "markdown",
   "metadata": {},
   "source": [
    "A.k.a.\n",
    "- Bayes Nets\n",
    "- Bayesian Networks\n",
    "- Graphical Models\n",
    "\n",
    "\n",
    "\n",
    "\n",
    "- Nodes represent variables\n",
    "- Edges represent _statistical_ (i.e. not causal) dependencies that need to be explicitly represented\n",
    "    - Only shows relationships between variables' probabilities, but not processes that underlie them (i.e. does not indicate a causal relationship between connected variables)\n",
    "    - So edges could better be described rather as representing conditional _indepedencies_ between variables (to not confuse causal relationships)\n",
    "\n",
    "Quiz:\n",
    "\n",
    "\n",
    "\n",
    "- top only needs P(S) because it is constrained by one (easy to computer P(S')\n",
    "- If P(S) did matter, then it wouldn't be conditionally independent and simple Belief Network would become much more complicated."
   ]
  },
  {
   "cell_type": "markdown",
   "metadata": {},
   "source": [
    "## Sampling From The Joint Distribution"
   ]
  },
  {
   "cell_type": "markdown",
   "metadata": {},
   "source": [
    "Quiz\n",
    "- "
   ]
  },
  {
   "cell_type": "markdown",
   "metadata": {},
   "source": [
    "## Recovering the Joint Distribution"
   ]
  },
  {
   "cell_type": "markdown",
   "metadata": {},
   "source": [
    "- $-1$ in $2_{5} -1$ because 32nd value can be calculated as just 1 - sum of all the others\n",
    "- The fewer parents, the more compact the distribution ends up being.\n",
    "    - No parents in network, growth of distribution would be constant\n",
    "    - Otherwise, it will grow exponentially with the number of parents"
   ]
  },
  {
   "cell_type": "markdown",
   "metadata": {},
   "source": [
    "## Sampling"
   ]
  },
  {
   "cell_type": "markdown",
   "metadata": {},
   "source": []
  },
  {
   "cell_type": "markdown",
   "metadata": {},
   "source": [
    "## Inferencing Rules"
   ]
  },
  {
   "cell_type": "markdown",
   "metadata": {},
   "source": []
  },
  {
   "cell_type": "markdown",
   "metadata": {},
   "source": [
    "### Quiz: Inference by hand"
   ]
  },
  {
   "cell_type": "markdown",
   "metadata": {},
   "source": [
    "- Multiple methods routes to correct answer using Inference Rules\n",
    "- Needs more work to understand"
   ]
  },
  {
   "cell_type": "markdown",
   "metadata": {},
   "source": [
    "##  Naive Bayes: a special case"
   ]
  },
  {
   "cell_type": "markdown",
   "metadata": {},
   "source": [
    "### Applying Naive Bayes to Machine Learning"
   ]
  },
  {
   "cell_type": "markdown",
   "metadata": {},
   "source": []
  }
 ],
 "metadata": {
  "kernelspec": {
   "display_name": "Python 2",
   "language": "python",
   "name": "python2"
  },
  "language_info": {
   "codemirror_mode": {
    "name": "ipython",
    "version": 2
   },
   "file_extension": ".py",
   "mimetype": "text/x-python",
   "name": "python",
   "nbconvert_exporter": "python",
   "pygments_lexer": "ipython2",
   "version": "2.7.12"
  }
 },
 "nbformat": 4,
 "nbformat_minor": 0
}
