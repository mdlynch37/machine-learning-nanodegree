{
 "cells": [
  {
   "cell_type": "markdown",
   "metadata": {},
   "source": [
    "## Side notes \n",
    "_(code snippets, summaries, resources, etc.)_\n",
    "- First own use of `pylab` graph plotting"
   ]
  },
  {
   "cell_type": "markdown",
   "metadata": {},
   "source": [
    "# Supervised Regression Learning\n",
    "__definition: Regression model__, better named _numerical model_, uses data to build a model that predicts a numerical output based on a set of numerical inputs. Types of regressions include:\n",
    "1. Parametric approach (polynomial regressions)\n",
    "    - does not store original data\n",
    "    - need to do rerun to include more data\n",
    "    - training is slower, querying is faster\n",
    "2. Instance-based approach (data-centric regressions)\n",
    "    - A. K nearest neighbor (KNN)\n",
    "    - B. Kernel regression (KNN with points weighted according to distance)\n",
    "    - stores data within model, does not need to rerun for new data\n",
    "    - Training is faster, querying is slower\n",
    "    - When the is no initial guess of the underlying relationship\n",
    "        - Termed _unbiased_, whereas parametric models are _biased_\n",
    "        - Makes sense to use an available guess, i.e. not a bad thing to be _biased_ in this sense\n",
    "    - Can fit any shape\n",
    "\n",
    "\n",
    "![parametric regression](more_regressions_images/parametric_regression.png)\n",
    "\n",
    "![instance-based regression](more_regressions_images/instance-based_regression.png)\n",
    "\n",
    "![parametric or non quiz](more_regressions_images/parametric_or_non.png)\n",
    "\n"
   ]
  },
  {
   "cell_type": "code",
   "execution_count": null,
   "metadata": {
    "collapsed": false,
    "scrolled": true
   },
   "outputs": [],
   "source": [
    "#\n",
    "#\n",
    "# Regression and Classification programming exercises\n",
    "#\n",
    "#\n",
    "\n",
    "\n",
    "#\n",
    "#   In this exercise we will be taking a small data set and \n",
    "#   computing a linear function that fits it, by hand.\n",
    "#\n",
    "\n",
    "#   the data set\n",
    "\n",
    "import numpy as np\n",
    "\n",
    "sleep = [5,6,7,8,10]\n",
    "scores = [65,51,75,75,86]\n",
    "\n",
    "\n",
    "def compute_regression(sleep,scores):\n",
    "\n",
    "    #\tFirst, compute the average amount of each list\n",
    "\n",
    "    avg_sleep = sum(sleep) / (1.0*len(sleep))\n",
    "    avg_scores = sum(scores) / (1.0*len(scores))\n",
    "\n",
    "    #\tThen normalize the lists by subtracting the mean \n",
    "    #\tvalue from each entry\n",
    "\n",
    "    normalized_sleep = [x - avg_sleep for x in sleep]\n",
    "    normalized_scores = [y - avg_scores for y in scores]\n",
    "\n",
    "    #\tCompute the slope of the line by taking the sum \n",
    "    #\tover each student of the product of their normalized\n",
    "    #\tsleep times and their normalized test score.\n",
    "    #\tThen divide this by the sum of squares of \n",
    "    #\tthe normalized sleep times.\n",
    "\n",
    "    sum_of_products = sum( [x * y for x, y in \n",
    "                            zip(normalized_sleep, normalized_scores)])\n",
    "    sum_of_squares = sum( [x * x for x in normalized_sleep])\n",
    "    \n",
    "    slope = sum_of_products / (1.0*sum_of_squares)\n",
    "\n",
    "    #\tFinally, We have a linear function of the form\n",
    "    #\ty - avg_y = slope * ( x - avg_x )\n",
    "    #\tRewrite this function in the form\n",
    "    #\ty = m * x + b\n",
    "    #\tThen return the values m, b\n",
    "    \n",
    "    #   => y = slope*x - slope*avg_x + avg_y\n",
    "    #   Thus,   b = - slope*avg_x + avg_y\n",
    "    #        => b = avg_y - slope*avg_x\n",
    "    \n",
    "    b = avg_scores - slope*avg_sleep \n",
    "    m = slope\n",
    "    \n",
    "    return m,b\n",
    "\n",
    "if __name__==\"__main__\":\n",
    "    m,b = compute_regression(sleep,scores)\n",
    "    print \"Your linear model is y={}*x+{}\".format(m,b)"
   ]
  },
  {
   "cell_type": "markdown",
   "metadata": {},
   "source": [
    "## Numpy Polyfit\n",
    "- This model, however, would breakdown with high inputs of sleep durations.\n",
    "- One simple solution is using a polynomial regression, fitting a model of the form:\n",
    "```python\n",
    "y = p[0] * x**2 + p[1] * x + p[2]\n",
    "```\n",
    "- Note that a polynomial regression is a form of _linear regression_\n",
    "    - because the space of polynomials is linear in it coefficients\n",
    "\n",
    "Tool that can fit these models:\n",
    "1. [numpy.`polyfit()`](http://docs.scipy.org/doc/numpy-1.10.0/reference/generated/numpy.polyfit.html)\n",
    "    - Takes in a list of regression values x and y, and a degree\n",
    "    - Outputs a polynomial in the form of a list \n",
    "```python\n",
    "        p = [p[0],p[1],...,p[degree]]\n",
    "```\n",
    "- [sklearn.preprocessing.`PolynomialFeatures()`](http://scikit-learn.org/stable/modules/generated/sklearn.preprocessing.PolynomialFeatures.html)\n",
    "    - adds features to a dataset which are quadratic (or higher) combinations of the previous features.\n"
   ]
  },
  {
   "cell_type": "code",
   "execution_count": null,
   "metadata": {
    "collapsed": false
   },
   "outputs": [],
   "source": [
    "#\n",
    "#\tPolynomial Regression\n",
    "#\n",
    "#\tIn this exercise we will examine more complex models \n",
    "#   of test grades as a function of sleep using numpy.polyfit \n",
    "#   to determine a good relationship and incorporating more data.\n",
    "#\n",
    "#\n",
    "#   at the end, store the coefficients of the polynomial you \n",
    "#   found in coeffs\n",
    "#\n",
    "\n",
    "import numpy as np\n",
    "\n",
    "sleep = [5,6,7,8,10,12,16]\n",
    "scores = [65,51,75,75,86,80,0]\n",
    "\n",
    "coeffs = np.polyfit(sleep, scores, deg=2)\n"
   ]
  },
  {
   "cell_type": "code",
   "execution_count": null,
   "metadata": {
    "collapsed": false
   },
   "outputs": [],
   "source": [
    "import pylab as pl\n",
    "\n",
    "# Evaluate the polynomial at (other) points\n",
    "u = np.linspace(-10., 30., 50)\n",
    "\n",
    "v = np.polyval(coeffs, u)\n",
    "\n",
    "pl.figure()  # ?? doesn't seem to change anything\n",
    "pl.plot(sleep, scores, \".\")\n",
    "pl.plot(u, v, \"--r\")\n",
    "pl.grid(True)\n",
    "pl.show()"
   ]
  }
 ],
 "metadata": {
  "anaconda-cloud": {},
  "kernelspec": {
   "display_name": "Python 2",
   "language": "python",
   "name": "python2"
  },
  "language_info": {
   "codemirror_mode": {
    "name": "ipython",
    "version": 2
   },
   "file_extension": ".py",
   "mimetype": "text/x-python",
   "name": "python",
   "nbconvert_exporter": "python",
   "pygments_lexer": "ipython2",
   "version": "2.7.12"
  }
 },
 "nbformat": 4,
 "nbformat_minor": 0
}
