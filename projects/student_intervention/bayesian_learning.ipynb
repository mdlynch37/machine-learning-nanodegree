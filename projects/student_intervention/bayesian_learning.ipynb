{
 "cells": [
  {
   "cell_type": "markdown",
   "metadata": {},
   "source": [
    "## Side notes \n",
    "_(code snippets, summaries, resources, etc.)_\n",
    "- Provides extra explanation: [_Bayesian Learning_ PDF by Udactiy](https://www.evernote.com/shard/s37/nl/1033921335/d62d0042-fbcb-4831-83d6-fe311e1bc6cd/) (Evernote)"
   ]
  },
  {
   "cell_type": "markdown",
   "metadata": {},
   "source": [
    "# Bayesian Learning"
   ]
  },
  {
   "cell_type": "markdown",
   "metadata": {},
   "source": [
    "## Bayes' Rule"
   ]
  },
  {
   "cell_type": "markdown",
   "metadata": {},
   "source": [
    "- Accepting features as given, so Pr(D|h) measures probability of associated labels\n",
    "- Pr(h), our _prior_ on the hypothesis, captures _domain knowledge_\n",
    "- Pr(D|h) represents type of accuracy measure\n",
    "\n",
    "![bayes' rule overview](bayesian_learning_images/bayes_rule_overview.png)"
   ]
  },
  {
   "cell_type": "markdown",
   "metadata": {},
   "source": [
    "## Bayesian Learning Algorithm"
   ]
  },
  {
   "cell_type": "markdown",
   "metadata": {},
   "source": [
    "- To determine maximal hypothesis, do not need P(D) which is sometimes not available. (So we use approximate Pr(h|D)\n",
    "- P(h) can also be difficult to determine so we assume all hypothesis are equally likely, which lets us ignore it when determining _maximum likelihood hypothesis_\n",
    "    - this h<sub>ML</sub> is effectively the same as h<sub>MAP</sub>, or _maximum a posteriori hypothesis_, if there is not a strong prior\n",
    "- Hard part that remains is running through all possible hypotheses\n",
    "    - algorithm is not computationally practical, but conceptually useful\n",
    "\n",
    "![bayesian rule overview](bayesian_learning_images/bayesian_learning_algorithm.png)"
   ]
  },
  {
   "cell_type": "markdown",
   "metadata": {},
   "source": [
    "### Bayesian learning in practice"
   ]
  },
  {
   "cell_type": "markdown",
   "metadata": {},
   "source": [
    "- Uniform prior a.k.a. _uninformed prior_\n",
    "- P(D|h) is probability of seeing data with given labels in a universe where _h_ happens to be true.\n",
    "\n",
    "From [Bayesian Learning in Action](https://classroom.udacity.com/nanodegrees/nd009/parts/0091345404/modules/5c2f3b47-b791-46a7-88eb-34a0753665e6/lessons/5462070314/concepts/4733385550923#) (Udacity video)\n",
    "- Pr(h|D) = 1/|VS| where h is an element of |VS| means that:\n",
    "    - _all hypotheses in the version space are equally likely_\n",
    "    - assuming that data is noise free\n",
    "\n",
    "![bayesian rule overview](bayesian_learning_images/bayesian_learning_in_practice.png)"
   ]
  },
  {
   "cell_type": "markdown",
   "metadata": {},
   "source": [
    "### Application with noisy data"
   ]
  },
  {
   "cell_type": "markdown",
   "metadata": {},
   "source": [
    "\n",
    "![bayesian rule overview](bayesian_learning_images/bayesian_learning_with_noise.png)"
   ]
  },
  {
   "cell_type": "markdown",
   "metadata": {},
   "source": [
    "- important for error domain is that mean is zero (variance not)\n",
    "\n"
   ]
  }
 ],
 "metadata": {
  "anaconda-cloud": {},
  "kernelspec": {
   "display_name": "Python 2",
   "language": "python",
   "name": "python2"
  },
  "language_info": {
   "codemirror_mode": {
    "name": "ipython",
    "version": 2
   },
   "file_extension": ".py",
   "mimetype": "text/x-python",
   "name": "python",
   "nbconvert_exporter": "python",
   "pygments_lexer": "ipython2",
   "version": "2.7.12"
  }
 },
 "nbformat": 4,
 "nbformat_minor": 0
}
