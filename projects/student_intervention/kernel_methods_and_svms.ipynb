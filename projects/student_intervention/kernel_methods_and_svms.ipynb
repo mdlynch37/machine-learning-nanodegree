{
 "cells": [
  {
   "cell_type": "markdown",
   "metadata": {},
   "source": [
    "## Side notes \n",
    "_(code snippets, summaries, resources, etc.)_\n",
    "\n",
    "__Further reading:__  ( \\* = sources that have been integrated in this notebook)\n",
    "- \n",
    "Provides extra explanation: [_Kernel Methods and SVMs Extension_ PDF by Udactiy](https://www.evernote.com/shard/s37/nl/1033921335/8ad2b932-4fa8-488a-8cc0-5c53c4900530/) (Evernote)\n",
    "- See \"quadratic programming problems\" for extra math needed for SVM calculation, although might not be necessary (can just \"plug and play and go\")."
   ]
  },
  {
   "cell_type": "markdown",
   "metadata": {},
   "source": [
    "# Kernel Methods & SVMs"
   ]
  },
  {
   "cell_type": "markdown",
   "metadata": {},
   "source": [
    "## Summary of topics covered\n",
    "![summary of kernel methods and SVMs](kernel_methods_and_svms_images/summary_kernel_methods_and_svms.png)\n"
   ]
  },
  {
   "cell_type": "markdown",
   "metadata": {},
   "source": [
    "__definition:__ SVM decision boundaries\n",
    "- Are best fit when consistent with the data while committing least to it.\n",
    "- Leave as much space as possible between it and boundaries created by data points\n",
    "\n",
    "![SVM best fit](kernel_methods_and_svms_images/svm_best_fit.png)\n",
    "\n",
    "## Calculating margin for decision boundary\n",
    "\n",
    "![Calculating margin for decision boundary](kernel_methods_and_svms_images/svm_margin.png)\n",
    "\n",
    "![Calculating margin for decision boundary 2](kernel_methods_and_svms_images/svm_margin_2.png)\n",
    "\n",
    "### Properties of solution to equation\n",
    "- Since most alphas are 0, SVM is a machine built by just a few _support vectors_\n",
    "- Therefore support vectors are data points closest to decision boundary\n",
    "    - others have no influence\n",
    "- Algorithm is like KNN but uses quadratic programming method to filter out points that do not matter\n",
    "\n",
    "![Nature of decision boundary equation](kernel_methods_and_svms_images/svm_equation.png)\n",
    "\n",
    "![Nature of decision boundary equation 2](kernel_methods_and_svms_images/svm_equation_2.png)\n",
    "\n",
    "![Nature of decision boundary equation 3](kernel_methods_and_svms_images/svm_equation_3.png)\n",
    "\n",
    "### SVMs: Linearly Married\n",
    "![SVMs linearly married](kernel_methods_and_svms_images/svms_linearly_married.png)\n",
    "\n",
    "![SVMs linearly married 2](kernel_methods_and_svms_images/svms_linearly_married_2.png)\n"
   ]
  }
 ],
 "metadata": {
  "anaconda-cloud": {},
  "kernelspec": {
   "display_name": "Python 2",
   "language": "python",
   "name": "python2"
  },
  "language_info": {
   "codemirror_mode": {
    "name": "ipython",
    "version": 2
   },
   "file_extension": ".py",
   "mimetype": "text/x-python",
   "name": "python",
   "nbconvert_exporter": "python",
   "pygments_lexer": "ipython2",
   "version": "2.7.12"
  }
 },
 "nbformat": 4,
 "nbformat_minor": 0
}
