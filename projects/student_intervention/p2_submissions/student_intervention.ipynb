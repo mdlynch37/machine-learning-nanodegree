{
 "cells": [
  {
   "cell_type": "markdown",
   "metadata": {},
   "source": [
    "# Machine Learning Engineer Nanodegree\n",
    "## Supervised Learning\n",
    "## Project 2: Building a Student Intervention System"
   ]
  },
  {
   "cell_type": "markdown",
   "metadata": {},
   "source": [
    "Welcome to the second project of the Machine Learning Engineer Nanodegree! In this notebook, some template code has already been provided for you, and it will be your job to implement the additional functionality necessary to successfully complete this project. Sections that begin with **'Implementation'** in the header indicate that the following block of code will require additional functionality which you must provide. Instructions will be provided for each section and the specifics of the implementation are marked in the code block with a `'TODO'` statement. Please be sure to read the instructions carefully!\n",
    "\n",
    "In addition to implementing code, there will be questions that you must answer which relate to the project and your implementation. Each section where you will answer a question is preceded by a **'Question X'** header. Carefully read each question and provide thorough answers in the following text boxes that begin with **'Answer:'**. Your project submission will be evaluated based on your answers to each of the questions and the implementation you provide.  \n",
    "\n",
    ">**Note:** Code and Markdown cells can be executed using the **Shift + Enter** keyboard shortcut. In addition, Markdown cells can be edited by typically double-clicking the cell to enter edit mode."
   ]
  },
  {
   "cell_type": "markdown",
   "metadata": {},
   "source": [
    "### Question 1 - Classification vs. Regression\n",
    "*Your goal for this project is to identify students who might need early intervention before they fail to graduate. Which type of supervised learning problem is this, classification or regression? Why?*"
   ]
  },
  {
   "cell_type": "markdown",
   "metadata": {},
   "source": [
    "**Answer: **\n",
    "\n",
    "This is a classification learning problem because the required output is categorical, in particular a boolean for _passed_ or not. If the output were continuous, i.e. a demical value, regression would apply."
   ]
  },
  {
   "cell_type": "markdown",
   "metadata": {},
   "source": [
    "## Exploring the Data\n",
    "Run the code cell below to load necessary Python libraries and load the student data. Note that the last column from this dataset, `'passed'`, will be our target label (whether the student graduated or didn't graduate). All other columns are features about each student."
   ]
  },
  {
   "cell_type": "code",
   "execution_count": 1,
   "metadata": {
    "collapsed": false
   },
   "outputs": [
    {
     "name": "stdout",
     "output_type": "stream",
     "text": [
      "Student data read successfully!\n"
     ]
    }
   ],
   "source": [
    "# Import libraries\n",
    "import numpy as np\n",
    "import pandas as pd\n",
    "from time import time\n",
    "from sklearn.metrics import f1_score\n",
    "\n",
    "# Read student data\n",
    "student_data = pd.read_csv(\"student-data.csv\")\n",
    "print \"Student data read successfully!\""
   ]
  },
  {
   "cell_type": "markdown",
   "metadata": {},
   "source": [
    "### Implementation: Data Exploration\n",
    "Let's begin by investigating the dataset to determine how many students we have information on, and learn about the graduation rate among these students. In the code cell below, you will need to compute the following:\n",
    "- The total number of students, `n_students`.\n",
    "- The total number of features for each student, `n_features`.\n",
    "- The number of those students who passed, `n_passed`.\n",
    "- The number of those students who failed, `n_failed`.\n",
    "- The graduation rate of the class, `grad_rate`, in percent (%).\n"
   ]
  },
  {
   "cell_type": "code",
   "execution_count": 2,
   "metadata": {
    "collapsed": false
   },
   "outputs": [
    {
     "name": "stdout",
     "output_type": "stream",
     "text": [
      "Total number of students: 395\n",
      "Number of features: 30\n",
      "Number of students who passed: 265\n",
      "Number of students who failed: 130\n",
      "Graduation rate of the class: 67.09%\n"
     ]
    }
   ],
   "source": [
    "sd = student_data\n",
    "\n",
    "# TODO: Calculate number of students\n",
    "n_students = sd.shape[0]\n",
    "\n",
    "# TODO: Calculate number of features\n",
    "n_features = sd.shape[1] - 1  # less one target variable\n",
    "\n",
    "# TODO: Calculate passing students\n",
    "n_passed = sd[sd.passed=='yes'].shape[0]\n",
    "\n",
    "# TODO: Calculate failing students\n",
    "n_failed = sd[sd.passed=='no'].shape[0]\n",
    "\n",
    "# TODO: Calculate graduation rate\n",
    "grad_rate = 1.*n_passed / n_students * 100\n",
    "\n",
    "# Print the results\n",
    "print \"Total number of students: {}\".format(n_students)\n",
    "print \"Number of features: {}\".format(n_features)\n",
    "print \"Number of students who passed: {}\".format(n_passed)\n",
    "print \"Number of students who failed: {}\".format(n_failed)\n",
    "print \"Graduation rate of the class: {:.2f}%\".format(grad_rate)"
   ]
  },
  {
   "cell_type": "markdown",
   "metadata": {},
   "source": [
    "## Preparing the Data\n",
    "In this section, we will prepare the data for modeling, training and testing.\n",
    "\n",
    "### Identify feature and target columns\n",
    "It is often the case that the data you obtain contains non-numeric features. This can be a problem, as most machine learning algorithms expect numeric data to perform computations with.\n",
    "\n",
    "Run the code cell below to separate the student data into feature and target columns to see if any features are non-numeric."
   ]
  },
  {
   "cell_type": "code",
   "execution_count": 3,
   "metadata": {
    "collapsed": false
   },
   "outputs": [
    {
     "name": "stdout",
     "output_type": "stream",
     "text": [
      "Feature columns:\n",
      "['school', 'sex', 'age', 'address', 'famsize', 'Pstatus', 'Medu', 'Fedu', 'Mjob', 'Fjob', 'reason', 'guardian', 'traveltime', 'studytime', 'failures', 'schoolsup', 'famsup', 'paid', 'activities', 'nursery', 'higher', 'internet', 'romantic', 'famrel', 'freetime', 'goout', 'Dalc', 'Walc', 'health', 'absences']\n",
      "\n",
      "Target column: passed\n",
      "\n",
      "Feature values:\n",
      "  school sex  age address famsize Pstatus  Medu  Fedu     Mjob      Fjob  \\\n",
      "0     GP   F   18       U     GT3       A     4     4  at_home   teacher   \n",
      "1     GP   F   17       U     GT3       T     1     1  at_home     other   \n",
      "2     GP   F   15       U     LE3       T     1     1  at_home     other   \n",
      "3     GP   F   15       U     GT3       T     4     2   health  services   \n",
      "4     GP   F   16       U     GT3       T     3     3    other     other   \n",
      "\n",
      "    ...    higher internet  romantic  famrel  freetime goout Dalc Walc health  \\\n",
      "0   ...       yes       no        no       4         3     4    1    1      3   \n",
      "1   ...       yes      yes        no       5         3     3    1    1      3   \n",
      "2   ...       yes      yes        no       4         3     2    2    3      3   \n",
      "3   ...       yes      yes       yes       3         2     2    1    1      5   \n",
      "4   ...       yes       no        no       4         3     2    1    2      5   \n",
      "\n",
      "  absences  \n",
      "0        6  \n",
      "1        4  \n",
      "2       10  \n",
      "3        2  \n",
      "4        4  \n",
      "\n",
      "[5 rows x 30 columns]\n"
     ]
    }
   ],
   "source": [
    "# Extract feature columns\n",
    "feature_cols = list(student_data.columns[:-1])\n",
    "\n",
    "# Extract target column 'passed'\n",
    "target_col = student_data.columns[-1] \n",
    "\n",
    "# Show the list of columns\n",
    "print \"Feature columns:\\n{}\".format(feature_cols)\n",
    "print \"\\nTarget column: {}\".format(target_col)\n",
    "\n",
    "# Separate the data into feature data and target data (X_all and y_all, respectively)\n",
    "X_all = student_data[feature_cols]\n",
    "y_all = student_data[target_col]\n",
    "\n",
    "# Show the feature information by printing the first five rows\n",
    "print \"\\nFeature values:\"\n",
    "print X_all.head()"
   ]
  },
  {
   "cell_type": "markdown",
   "metadata": {},
   "source": [
    "### Preprocess Feature Columns\n",
    "\n",
    "As you can see, there are several non-numeric columns that need to be converted! Many of them are simply `yes`/`no`, e.g. `internet`. These can be reasonably converted into `1`/`0` (binary) values.\n",
    "\n",
    "Other columns, like `Mjob` and `Fjob`, have more than two values, and are known as _categorical variables_. The recommended way to handle such a column is to create as many columns as possible values (e.g. `Fjob_teacher`, `Fjob_other`, `Fjob_services`, etc.), and assign a `1` to one of them and `0` to all others.\n",
    "\n",
    "These generated columns are sometimes called _dummy variables_, and we will use the [`pandas.get_dummies()`](http://pandas.pydata.org/pandas-docs/stable/generated/pandas.get_dummies.html?highlight=get_dummies#pandas.get_dummies) function to perform this transformation. Run the code cell below to perform the preprocessing routine discussed in this section."
   ]
  },
  {
   "cell_type": "code",
   "execution_count": 4,
   "metadata": {
    "collapsed": false
   },
   "outputs": [
    {
     "name": "stdout",
     "output_type": "stream",
     "text": [
      "Processed feature columns (48 total features):\n",
      "['school_GP', 'school_MS', 'sex_F', 'sex_M', 'age', 'address_R', 'address_U', 'famsize_GT3', 'famsize_LE3', 'Pstatus_A', 'Pstatus_T', 'Medu', 'Fedu', 'Mjob_at_home', 'Mjob_health', 'Mjob_other', 'Mjob_services', 'Mjob_teacher', 'Fjob_at_home', 'Fjob_health', 'Fjob_other', 'Fjob_services', 'Fjob_teacher', 'reason_course', 'reason_home', 'reason_other', 'reason_reputation', 'guardian_father', 'guardian_mother', 'guardian_other', 'traveltime', 'studytime', 'failures', 'schoolsup', 'famsup', 'paid', 'activities', 'nursery', 'higher', 'internet', 'romantic', 'famrel', 'freetime', 'goout', 'Dalc', 'Walc', 'health', 'absences']\n"
     ]
    }
   ],
   "source": [
    "def preprocess_features(X):\n",
    "    ''' \n",
    "    Preprocesses the student data and converts non-numeric\n",
    "    binary variables into binary (0/1) variables.\n",
    "    Converts categorical variables into dummy variables.\n",
    "    '''\n",
    "    \n",
    "    # Initialize new output DataFrame\n",
    "    output = pd.DataFrame(index = X.index)\n",
    "\n",
    "    # Investigate each feature column for the data\n",
    "    for col, col_data in X.iteritems():\n",
    "        \n",
    "        # If data type is non-numeric, replace all yes/no values with 1/0\n",
    "        if col_data.dtype == object:\n",
    "            col_data = col_data.replace(['yes', 'no'], [1, 0])\n",
    "\n",
    "        # If data type is categorical, convert to dummy variables\n",
    "        if col_data.dtype == object:\n",
    "            # Example: 'school' => 'school_GP' and 'school_MS'\n",
    "            col_data = pd.get_dummies(col_data, prefix = col)  \n",
    "        \n",
    "        # Collect the revised columns\n",
    "        output = output.join(col_data)\n",
    "    \n",
    "    return output\n",
    "\n",
    "X_all = preprocess_features(X_all)\n",
    "\n",
    "print ( \"Processed feature columns ({} total features):\\n{}\"\n",
    "        .format(len(X_all.columns), list(X_all.columns)) )"
   ]
  },
  {
   "cell_type": "markdown",
   "metadata": {},
   "source": [
    "### Implementation: Training and Testing Data Split\n",
    "So far, we have converted all _categorical_ features into numeric values. For the next step, we split the data (both features and corresponding labels) into training and test sets. In the following code cell below, you will need to implement the following:\n",
    "- Randomly shuffle and split the data (`X_all`, `y_all`) into training and testing subsets.\n",
    "  - Use 300 training points (approximately 75%) and 95 testing points (approximately 25%).\n",
    "  - Set a `random_state` for the function(s) you use, if provided.\n",
    "  - Store the results in `X_train`, `X_test`, `y_train`, and `y_test`."
   ]
  },
  {
   "cell_type": "code",
   "execution_count": 5,
   "metadata": {
    "collapsed": false
   },
   "outputs": [
    {
     "name": "stdout",
     "output_type": "stream",
     "text": [
      "Training set has 300 samples.\n",
      "Testing set has 95 samples.\n"
     ]
    }
   ],
   "source": [
    "SEED = 42\n",
    "\n",
    "# TODO: Import any additional functionality\n",
    "from sklearn.cross_validation import train_test_split\n",
    "\n",
    "\n",
    "# TODO: Set the number of training points\n",
    "num_train = 300\n",
    "\n",
    "# Set the number of testing points\n",
    "num_test = X_all.shape[0] - num_train\n",
    "\n",
    "# TODO: Shuffle and split the dataset into the \n",
    "# number of training and testing points above\n",
    "X_train, X_test = train_test_split(X_all, train_size=num_train, \n",
    "                                   random_state=SEED)\n",
    "y_train, y_test = train_test_split(y_all, train_size=num_train, \n",
    "                                   random_state=SEED)\n",
    "\n",
    "# Show the results of the split\n",
    "print ( \"Training set has {} samples.\"\n",
    "        .format(X_train.shape[0]) )\n",
    "print (\"Testing set has {} samples.\"\n",
    "       .format(X_test.shape[0]) )"
   ]
  },
  {
   "cell_type": "markdown",
   "metadata": {},
   "source": [
    "## Training and Evaluating Models\n",
    "In this section, you will \n",
    "1. choose 3 supervised learning models that are appropriate for this problem and available in `scikit-learn`. \n",
    "- discuss the reasoning behind choosing these three models by considering what you know about the data and each model's strengths and weaknesses. \n",
    "- fit the model to varying sizes of training data (100 data points, 200 data points, and 300 data points) and measure the F<sub>1</sub> score. \n",
    "- produce three tables (one for each model) that shows the training set size, training time, prediction time, F<sub>1</sub> score on the training set, and F<sub>1</sub> score on the testing set.\n",
    "\n",
    "\n",
    "**The following supervised learning models are currently available in** [`scikit-learn`](http://scikit-learn.org/stable/supervised_learning.html) **that you may choose from:**\n",
    "- ~~Gaussian Naive Bayes (GaussianNB)~~ (features must be assumed independent, unlikely in this case)\n",
    "- ~~Decision Trees~~ (high variance classifier; since no performance or other constraints so rather use some type ensemble of DTs)\n",
    "- Ensemble Methods (Bagging, AdaBoost, Random Forest, Gradient Boosting)\n",
    "    - Random Forest\n",
    "    - AdaBoost with DTs (not one of three chosen)\n",
    "    - ~~Bagging with DTs~~ (essentially same as Random Forest)\n",
    "- K-Nearest Neighbors (KNeighbors) (does not work well with high dimensionality data, but student data seems to have few enough features)\n",
    "- ~~Stochastic Gradient Descent (SGDC)~~ (not familiar enough with this classifier)\n",
    "- Support Vector Machines (SVM)\n",
    "- Logistic Regression (similar to SVM but has advantage over it by giving output with a probablistic interpretation that may be relevant here.)"
   ]
  },
  {
   "cell_type": "markdown",
   "metadata": {},
   "source": [
    "### Question 2 - Model Application\n",
    "*List three supervised learning models that are appropriate for this problem. For each model chosen*\n",
    "- Describe one real-world application in industry where the model can be applied. *(You may need to do a small bit of research for this — give references!)* \n",
    "- What are the strengths of the model; when does it perform well? \n",
    "- What are the weaknesses of the model; when does it perform poorly?\n",
    "- What makes this model a good candidate for the problem, given what you know about the data?"
   ]
  },
  {
   "cell_type": "markdown",
   "metadata": {},
   "source": [
    "QUESTIONS about how to respond:\n",
    "- I struggled to find concrete examples of classifiers used in industry (and I searched the web _a lot_). The obvious exception is neural nets which have been in the news with applications by Google, Facebook and others. As such, examples I provided are applications braodly defined in white papers or academic articles.\n",
    "    - Do you have any ideas where I should look for better, more concrete examples in industry?\n",
    "    - Tried Kaggle's Kernel section and the code there didn't seem to have relevant examples.\n",
    "    - I even asked this question on Quora that has yet to be answered: [What are some real-world applications of specific machine learning algorithms?](https://www.quora.com/unanswered/What-are-some-real-world-applications-of-specific-machine-learning-algorithms)\n",
    "\n",
    "NOTE: Assumptions about data made below are:\n",
    "- Data is linearly separable.\n",
    "- Features are _not_ necessarily independent of one another.\n",
    "\n",
    "**Answer: ** (for enrichment I provide four algorithms)\n",
    "\n",
    "_1) Random Forest_ (RF; essentially bagging method with DTs)\n",
    "- Real-world application in industry:\n",
    "    - Customer churn rate, predicting which customers are going to abandon a product or service (SVM and k-NN as well) \n",
    "        - source: [Data Science in Practice](https://www.yhat.com/whitepapers/data-science-in-practice): Five common applications of data science with concrete, real-life use cases Presented by Yhat)\n",
    "- Strengths of model:\n",
    "    - Handles categorial (binary) features well\n",
    "    - Handles large numbers of dimensions and training examples well\n",
    "    - Maintains low-bias of a single Decision Tree while using an ensemble of DTs' to lower a DTs tendency towards high variance (i.e. overfitting).\n",
    "    - Data does not have to be linearly separable.\n",
    "    - Does not expect linear features or even features that interact linearly\n",
    "    - Works well without much tuning (as opposed to Gradient Boosted Decision Trees and most other classifiers)\n",
    "    - Non-parametric, so no need to worry about outliers\n",
    "    - Fast and scalable\n",
    "- Weaknesses of model:\n",
    "    - If DTs in the forest become too large, their accuracy can suffer\n",
    "    - Must rebuild model every time new training data needs to be integrated into the model\n",
    "    - Others?\n",
    "- Why it is appropriate for this data?\n",
    "    - At 48 features, the student data set benefits from an RF's adaptability to high-dimensional training data\n",
    "    - Works even if features have some dependent relationships between them\n",
    "    - Generally an algorithm that is very suitable to this type of data, and can be used as a benchmark with which to assess performance of other classifiers.\n",
    "\n",
    "_2) Logistic Regression_ (LR)\n",
    "- Real-world application in industry:\n",
    "    - Financial institutions predicting the likelihood of a homeowner defaulting on a mortgage\n",
    "        - source: [Wikipedia](https://en.wikipedia.org/wiki/Support_vector_machine#Applications)\n",
    "- Strengths of model:\n",
    "    - Fairly robust to noise.\n",
    "    - Methods available to avoid overfitting.\n",
    "    - Lots of ways to regularize an LR model.\n",
    "    - Unlike decision trees or SVMs, output can have useful probabilistic interpretation that can be used for ranking instead of classification.\n",
    "        - e.g., to easily adjust classification thresholds, to say when you’re unsure, or to get confidence intervals\n",
    "        - _Question_: would label data need to be converted into binary from 'yes', 'no' categories for this to be effective?\n",
    "        - easily update your model to take in new data (using an online gradient descent method), unlike DTs or SVMs\n",
    "- Weaknesses of model:\n",
    "    - No standardized way for dealing with multi-class problems (fundamentally a binary classifier)\n",
    "    - Limited expressive power\n",
    "    - Difficult to run incrementally\n",
    "- Why it is appropriate for this data?\n",
    "    - Its probablistic interpretation could be very useful for predicting which students are most likely to fail. This is especially relevant in school districts that have limited resources because they can prioritize certain students over others.\n",
    "\n",
    "_3) Support Vector Machines_ (SVM)\n",
    "- Real-world application in industry:\n",
    "    - Hand-written character recognition \n",
    "        - source: [Wikipedia](https://en.wikipedia.org/wiki/Support_vector_machine#Applications)\n",
    "- Strengths of model:\n",
    "    - High accuracy model (generally)\n",
    "    - Memory intensive\n",
    "    - Hard to interpret\n",
    "    - When used with a linear kernel, it is very similar to Logistic Regression, but without non-linear kernels SVMs have an advantage over LRs because they can be applied to data that is not necessarily linearly separable.\n",
    "    - Words well in high-dimensional space.\n",
    "- Weaknesses of model:\n",
    "    - Very inefficient in training, so not suitable for most industry scalce applications.\n",
    "    - No probabilistic interpretation as provided with a Losgistic Regression's output.\n",
    "    - Can be hard to tune (like finding an appropriate kernel)\n",
    "    - No standardized way for dealing with multi-class problems (fundamentally a binary classifier)\n",
    "- Why it is appropriate for this data?\n",
    "    - Fundamentally a binary classifier\n",
    "    - Student data is linearly separable\n",
    "\n",
    "_4) K-Nearest Neighbors_ (k-NN)\n",
    "- Real-world application in industry:\n",
    "    - Economic forecasting, predicting financial distress\n",
    "        - source, PDF: [Application of K-Nearest Neighbor (KNN) Approach for Predicting Economic Events: Theoretical Background](http://www.ijera.com/papers/Vol3_issue5/DI35605610.pdf)\n",
    "- Strengths of model:\n",
    "    - Works well with small numbers of dimensions\n",
    "    - Generally has good perfromance in many contexts.\n",
    "- Weaknesses of model:\n",
    "    - Performs poorly with high-dimensional training data (like other instance-based learning techniques)\n",
    "    - Typically are not useful for understanding the nature of the relationship between the features and class outcome (like other _black box_ models)\n",
    "    - Uses lots of memory since it must store all instances in training data\n",
    "- Why it is appropriate for this data?\n",
    "    - k-NN performs well with low-dimensionality data (if we consider the 48 dimensions in the student data as small).\n",
    "\n",
    "__Sources:__\n",
    "Advantages and Disadvantages:\n",
    "- _Elements of Statistical Learning: Data Mining, Inference, and Prediction_ 2nd Ed. by Trevor Hastie, Robert Tibshirani  & Jerome Friedman (2013)\n",
    "- [Quora post](https://www.quora.com/What-are-the-advantages-of-different-classification-algorithms): What are the advantages of different classification algorithms?\n",
    "- [Choosing a Machine Learning Classifier](http://blog.echen.me/2011/04/27/choosing-a-machine-learning-classifier/) by Edwin Chen\n",
    "- [Chapter 7: Comparison of Classifiers](https://openaccess.leidenuniv.nl/bitstream/handle/1887/13575/Chapter%207.pdf?sequence=12) book unknown (2009)\n",
    "- [Slides on Random Forest](http://www.dabi.temple.edu/~hbling/8590.002/Montillo_RandomForests_4-2-2009.pdf) from guest lecture at Temple University (4-2-2009)\n",
    "\n",
    "Applications in industry:\n",
    "- [Data Science in Practice](https://www.yhat.com/whitepapers/data-science-in-practice): Five common applications of data science with concrete, real-life use cases Presented by Yhat"
   ]
  },
  {
   "cell_type": "markdown",
   "metadata": {},
   "source": [
    "### Setup\n",
    "Run the code cell below to initialize three helper functions which you can use for training and testing the three supervised learning models you've chosen above. The functions are as follows:\n",
    "- `train_classifier` - takes as input a classifier and training data and fits the classifier to the data.\n",
    "- `predict_labels` - takes as input a fit classifier, features, and a target labeling and makes predictions using the F<sub>1</sub> score.\n",
    "- `train_predict` - takes as input a classifier, and the training and testing data, and performs `train_clasifier` and `predict_labels`.\n",
    " - This function will report the F<sub>1</sub> score for both the training and testing data separately."
   ]
  },
  {
   "cell_type": "code",
   "execution_count": 6,
   "metadata": {
    "collapsed": false
   },
   "outputs": [],
   "source": [
    "def train_classifier(clf, X_train, y_train):\n",
    "    ''' Fits a classifier to the training data. '''\n",
    "    \n",
    "    # Start the clock, train the classifier, then stop the clock\n",
    "    start = time()\n",
    "    clf.fit(X_train, y_train)\n",
    "    end = time()\n",
    "    \n",
    "    # Print the results\n",
    "    print \"Trained model in {:.4f} seconds\".format(end - start)\n",
    "\n",
    "    \n",
    "def predict_labels(clf, features, target):\n",
    "    ''' Makes predictions using a fit classifier based on F1 score. '''\n",
    "    \n",
    "    # Start the clock, make predictions, then stop the clock\n",
    "    start = time()\n",
    "    y_pred = clf.predict(features)\n",
    "    end = time()\n",
    "    \n",
    "    # Print and return results\n",
    "    print \"Made predictions in {:.4f} seconds.\".format(end - start)\n",
    "    return f1_score(target.values, y_pred, pos_label='yes')\n",
    "\n",
    "\n",
    "def train_predict(clf, X_train, y_train, X_test, y_test):\n",
    "    ''' Train and predict using a classifer based on F1 score. '''\n",
    "    \n",
    "    # Indicate the classifier and the training set size\n",
    "    print ( \"Training a {} using a training set size of {}. . .\"\n",
    "            .format(clf.__class__.__name__, len(X_train)) )\n",
    "    \n",
    "    # Train the classifier\n",
    "    train_classifier(clf, X_train, y_train)\n",
    "    \n",
    "    # Print the results of prediction for both training and testing\n",
    "    print ( \"F1 score for training set: {:.4f}.\"\n",
    "             .format(predict_labels(clf, X_train, y_train)) )\n",
    "    print ( \"F1 score for test set: {:.4f}.\\n\"\n",
    "            .format(predict_labels(clf, X_test, y_test)) )"
   ]
  },
  {
   "cell_type": "markdown",
   "metadata": {},
   "source": [
    "### Implementation: Model Performance Metrics\n",
    "With the predefined functions above, you will now import the three supervised learning models of your choice and run the `train_predict` function for each one. Remember that you will need to train and predict on each classifier for three different training set sizes: 100, 200, and 300. Hence, you should expect to have 9 different outputs below — 3 for each model using the varying training set sizes. In the following code cell, you will need to implement the following:\n",
    "- Import the three supervised learning models you've discussed in the previous section.\n",
    "- Initialize the three models and store them in `clf_A`, `clf_B`, and `clf_C`.\n",
    " - Use a `random_state` for each model you use, if provided.\n",
    " - **Note:** Use the default settings for each model — you will tune one specific model in a later section.\n",
    "- Create the different training set sizes to be used to train each model.\n",
    " - *Do not reshuffle and resplit the data! The new training points should be drawn from `X_train` and `y_train`.*\n",
    "- Fit each model with each training set size and make predictions on the test set (9 in total).  \n",
    "**Note:** Three tables are provided after the following code cell which can be used to store your results."
   ]
  },
  {
   "cell_type": "code",
   "execution_count": 7,
   "metadata": {
    "collapsed": false
   },
   "outputs": [
    {
     "name": "stdout",
     "output_type": "stream",
     "text": [
      "\n",
      "\n",
      "*** RandomForestClassifier ***\n",
      "Training a RandomForestClassifier using a training set size of 100. . .\n",
      "Trained model in 0.0340 seconds\n",
      "Made predictions in 0.0009 seconds.\n",
      "F1 score for training set: 0.9844.\n",
      "Made predictions in 0.0007 seconds.\n",
      "F1 score for test set: 0.7153.\n",
      "\n",
      "Training a RandomForestClassifier using a training set size of 200. . .\n",
      "Trained model in 0.0568 seconds\n",
      "Made predictions in 0.0012 seconds.\n",
      "F1 score for training set: 0.9964.\n",
      "Made predictions in 0.0010 seconds.\n",
      "F1 score for test set: 0.7857.\n",
      "\n",
      "Training a RandomForestClassifier using a training set size of 300. . .\n",
      "Trained model in 0.0240 seconds\n",
      "Made predictions in 0.0018 seconds.\n",
      "F1 score for training set: 0.9951.\n",
      "Made predictions in 0.0011 seconds.\n",
      "F1 score for test set: 0.8092.\n",
      "\n",
      "\n",
      "\n",
      "*** LogisticRegression ***\n",
      "Training a LogisticRegression using a training set size of 100. . .\n",
      "Trained model in 0.0307 seconds\n",
      "Made predictions in 0.0010 seconds.\n",
      "F1 score for training set: 0.8593.\n",
      "Made predictions in 0.0002 seconds.\n",
      "F1 score for test set: 0.7647.\n",
      "\n",
      "Training a LogisticRegression using a training set size of 200. . .\n",
      "Trained model in 0.0021 seconds\n",
      "Made predictions in 0.0003 seconds.\n",
      "F1 score for training set: 0.8562.\n",
      "Made predictions in 0.0002 seconds.\n",
      "F1 score for test set: 0.7914.\n",
      "\n",
      "Training a LogisticRegression using a training set size of 300. . .\n",
      "Trained model in 0.0026 seconds\n",
      "Made predictions in 0.0002 seconds.\n",
      "F1 score for training set: 0.8468.\n",
      "Made predictions in 0.0001 seconds.\n",
      "F1 score for test set: 0.8060.\n",
      "\n",
      "\n",
      "\n",
      "*** SVC ***\n",
      "Training a SVC using a training set size of 100. . .\n",
      "Trained model in 0.0011 seconds\n",
      "Made predictions in 0.0010 seconds.\n",
      "F1 score for training set: 0.8777.\n",
      "Made predictions in 0.0008 seconds.\n",
      "F1 score for test set: 0.7746.\n",
      "\n",
      "Training a SVC using a training set size of 200. . .\n",
      "Trained model in 0.0025 seconds\n",
      "Made predictions in 0.0019 seconds.\n",
      "F1 score for training set: 0.8679.\n",
      "Made predictions in 0.0010 seconds.\n",
      "F1 score for test set: 0.7815.\n",
      "\n",
      "Training a SVC using a training set size of 300. . .\n",
      "Trained model in 0.0090 seconds\n",
      "Made predictions in 0.0078 seconds.\n",
      "F1 score for training set: 0.8761.\n",
      "Made predictions in 0.0024 seconds.\n",
      "F1 score for test set: 0.7838.\n",
      "\n",
      "\n",
      "\n",
      "*** KNeighborsClassifier ***\n",
      "Training a KNeighborsClassifier using a training set size of 100. . .\n",
      "Trained model in 0.0013 seconds\n",
      "Made predictions in 0.0022 seconds.\n",
      "F1 score for training set: 0.8060.\n",
      "Made predictions in 0.0020 seconds.\n",
      "F1 score for test set: 0.7246.\n",
      "\n",
      "Training a KNeighborsClassifier using a training set size of 200. . .\n",
      "Trained model in 0.0015 seconds\n",
      "Made predictions in 0.0049 seconds.\n",
      "F1 score for training set: 0.8800.\n",
      "Made predictions in 0.0027 seconds.\n",
      "F1 score for test set: 0.7692.\n",
      "\n",
      "Training a KNeighborsClassifier using a training set size of 300. . .\n",
      "Trained model in 0.0012 seconds\n",
      "Made predictions in 0.0058 seconds.\n",
      "F1 score for training set: 0.8809.\n",
      "Made predictions in 0.0032 seconds.\n",
      "F1 score for test set: 0.7801.\n",
      "\n"
     ]
    }
   ],
   "source": [
    "# TODO: Import the three supervised learning models from sklearn\n",
    "from sklearn.ensemble import RandomForestClassifier\n",
    "from sklearn.linear_model import LogisticRegression\n",
    "from sklearn.neighbors import KNeighborsClassifier\n",
    "from sklearn.svm import SVC\n",
    "\n",
    "# TODO: Initialize the three models\n",
    "clf_A = RandomForestClassifier(random_state=SEED)\n",
    "clf_B = LogisticRegression(random_state=SEED)\n",
    "clf_C = SVC(random_state=SEED)\n",
    "clf_D = KNeighborsClassifier()  # extra for enrichment\n",
    "\n",
    "# TODO: Set up the training set sizes\n",
    "# NOTE: Unnecessary given looping technique below\n",
    "X_train_100 = X_train[:100]\n",
    "y_train_100 = y_train[:100]\n",
    "\n",
    "X_train_200 = X_train[:200]\n",
    "y_train_200 = y_train[:200]\n",
    "\n",
    "X_train_300 = X_train[:300]\n",
    "y_train_300 = y_train[:300]\n",
    "\n",
    "# TODO: Execute the 'train_predict' function for each classifier \n",
    "# and each training set size:\n",
    "# train_predict(clf, X_train, y_train, X_test, y_test)\n",
    "\n",
    "all_clfs = [clf_A, clf_B, clf_C, clf_D]\n",
    "\n",
    "for clf in all_clfs:\n",
    "    print \"\\n\\n***\", clf.__class__.__name__, \"***\"\n",
    "    for s in range(100, 400, 100):\n",
    "        train_predict(clf, X_train[:s], y_train[:s], \n",
    "                           X_test[:s], y_test[:s])\n"
   ]
  },
  {
   "cell_type": "markdown",
   "metadata": {},
   "source": [
    "### Tabular Results\n",
    "Edit the cell below to see how a table can be designed in [Markdown](https://github.com/adam-p/markdown-here/wiki/Markdown-Cheatsheet#tables). You can record your results from above in the tables provided."
   ]
  },
  {
   "cell_type": "markdown",
   "metadata": {},
   "source": [
    "NOTE: All times provided are in seconds.\n",
    "\n",
    "** Classifer 1 - RandomForestClassifier**  \n",
    "\n",
    "| Training Set Size | Training Time | Prediction Time (test) | F1 Score (train) | F1 Score (test) |\n",
    "| :---------------: | :---------------------: | :--------------------: | :--------------: | :-------------: |\n",
    "| 100               |        0.0257         |           0.0015       |    0.9844     |       0.7153  |\n",
    "| 200               |        0.0418          |        0.0019         |      0.9964     |     0.7857     |\n",
    "| 300               |         0.0228       |       0.0012         |     0.9951     |    0.8092      |\n",
    "\n",
    "** Classifer 2 - LogisticRegression**  \n",
    "\n",
    "| Training Set Size | Training Time | Prediction Time (test) | F1 Score (train) | F1 Score (test) |\n",
    "| :---------------: | :---------------------: | :--------------------: | :--------------: | :-------------: |\n",
    "| 100               |    0.0010            |        0.0002       |     0.8593    |     0.7647    |\n",
    "| 200               |     0.0016             |      0.0003         |    0.8562      |    0.7914      |\n",
    "| 300               |      0.0030          |      0.0003        |      0.8468      |     0.8060     |\n",
    "\n",
    "** Classifer 3 - SVC**  \n",
    "\n",
    "| Training Set Size | Training Time | Prediction Time (test) | F1 Score (train) | F1 Score (test) |\n",
    "| :---------------: | :---------------------: | :--------------------: | :--------------: | :-------------: |\n",
    "| 100               |      0.0013         |       0.0011        |     0.8777     |       0.7746   |\n",
    "| 200               |      0.0026           |        0.0019        |     0.8679     |     0.7815     |\n",
    "| 300               |       0.0056        |       0.0040         |      0.8761    |     0.7838    |\n",
    "\n",
    "** Classifer 4 - KNeighborsClassifier**  \n",
    "\n",
    "| Training Set Size | Training Time | Prediction Time (test) | F1 Score (train) | F1 Score (test) |\n",
    "| :---------------: | :---------------------: | :--------------------: | :--------------: | :-------------: |\n",
    "| 100               |     0.0006           |         0.0013       |    0.8060    |    0.7246     |\n",
    "| 200               |     0.0005          |         0.0023     |     0.8800     |    0.7692      |\n",
    "| 300               |      0.0009         |      0.0057          |     0.8809     |     0.7801    |"
   ]
  },
  {
   "cell_type": "markdown",
   "metadata": {},
   "source": [
    "## Choosing the Best Model\n",
    "In this final section, you will choose from the three supervised learning models the *best* model to use on the student data. You will then perform a grid search optimization for the model over the entire training set (`X_train` and `y_train`) by tuning at least one parameter to improve upon the untuned model's F<sub>1</sub> score. "
   ]
  },
  {
   "cell_type": "markdown",
   "metadata": {},
   "source": [
    "### Question 3 - Choosing the Best Model\n",
    "*Based on the experiments you performed earlier, in one to two paragraphs, explain to the board of supervisors what single model you chose as the best model. Which model is generally the most appropriate based on the available data, limited resources, cost, and performance?*"
   ]
  },
  {
   "cell_type": "markdown",
   "metadata": {},
   "source": [
    "**Answer: **\n",
    "\n",
    "Based on tests of four different types of models, the Random Forest classifier is best suited to our purposes. It performs well \"out of the box\" and thus can be deployed quickly even if the data structure changes in the future. Assuming the size of the training data does not increase drastically in the future, the most costly resource in this project will be the time of the data scientist. Thus, the fact that RFs are easily deployable will save the most money for this project. The longer training time and short predicting time of Random Forests are not relevant to this application.\n",
    "\n",
    "As for the performance of the model, it will be as good or better than any other for this data, but Random Forests have the potential benefit of indicating relationships between aspects of a student and whether they will succeed academically or not."
   ]
  },
  {
   "cell_type": "markdown",
   "metadata": {},
   "source": [
    "### Question 4 - Model in Layman's Terms\n",
    "*In one to two paragraphs, explain to the board of directors in layman's terms how the final model chosen is supposed to work. Be sure that you are describing the major qualities of the model, such as how the model is trained and how the model makes a prediction. Avoid using advanced mathematical or technical jargon, such as describing equations or discussing the algorithm implementation.*"
   ]
  },
  {
   "cell_type": "markdown",
   "metadata": {},
   "source": [
    "**Answer: **\n",
    "\n",
    "Random Forests are a combination of many Decision Trees. A Decision Tree puts together a combination of questions about a student into something like a flowchart. It analyses the data to make sure the questions are asked in the right order so that when we want a prediction about a student, the answers based on details about that student will lead to a prediction about him or her.\n",
    "\n",
    "Unfortunately, a Decision Tree can start to make irrelevant connections between some questions and answers that work very well for the data we already have, but make poor predictions for new data. A Random Forest solves this by combining lots of DTs, each of which looks at a small slice of the training data. This keeps each tree from becoming too complicated. By combining them together, we can preserve the accuracy of a single DT on the training data, while keeping it from \"over-learning\" so that it can be applied to new data to make good predictions."
   ]
  },
  {
   "cell_type": "markdown",
   "metadata": {},
   "source": [
    "### Implementation: Model Tuning\n",
    "Fine tune the chosen model. Use grid search (`GridSearchCV`) with at least one important parameter tuned with at least 3 different values. You will need to use the entire training set for this. In the code cell below, you will need to implement the following:\n",
    "- Import [`sklearn.grid_search.gridSearchCV`](http://scikit-learn.org/stable/modules/generated/sklearn.grid_search.GridSearchCV.html) and [`sklearn.metrics.make_scorer`](http://scikit-learn.org/stable/modules/generated/sklearn.metrics.make_scorer.html).\n",
    "- Create a dictionary of parameters you wish to tune for the chosen model.\n",
    " - Example: `parameters = {'parameter' : [list of values]}`.\n",
    "- Initialize the classifier you've chosen and store it in `clf`.\n",
    "- Create the F<sub>1</sub> scoring function using `make_scorer` and store it in `f1_scorer`.\n",
    " - Set the `pos_label` parameter to the correct value!\n",
    "- Perform grid search on the classifier `clf` using `f1_scorer` as the scoring method, and store it in `grid_obj`.\n",
    "- Fit the grid search object to the training data (`X_train`, `y_train`), and store it in `grid_obj`."
   ]
  },
  {
   "cell_type": "code",
   "execution_count": 8,
   "metadata": {
    "collapsed": false
   },
   "outputs": [
    {
     "name": "stdout",
     "output_type": "stream",
     "text": [
      "Made predictions in 0.0021 seconds.\n",
      "Tuned model has a training F1 score of 1.0000.\n",
      "Made predictions in 0.0015 seconds.\n",
      "Tuned model has a testing F1 score of 0.7943.\n"
     ]
    }
   ],
   "source": [
    "# TODO: Import 'GridSearchCV' and 'make_scorer'\n",
    "from sklearn.grid_search import GridSearchCV\n",
    "from sklearn.metrics import f1_score, make_scorer\n",
    "from sklearn.cross_validation import ShuffleSplit\n",
    "\n",
    "# TODO: Create the parameters list you wish to tune\n",
    "parameters = {\n",
    "              'n_estimators':range(3, 30, 2),\n",
    "              'min_samples_split':range(1 ,10, 2),\n",
    "              'criterion':['gini', 'entropy'],\n",
    "              }\n",
    "\n",
    "# for Logistic Regression\n",
    "parameters_LR = {\n",
    "              'C':np.arange(0.5, 2.0, 0.1),\n",
    "              'fit_intercept':[True, False],\n",
    "              'dual':[True, False],\n",
    "              'intercept_scaling':np.arange(0.5, 15.0, 0.5),\n",
    "              'tol':np.arange(0.00001, 0.00010, 0.00001),\n",
    "#               'solver':['newton-cg', 'lbfgs', 'liblinear', 'sag'],\n",
    "#               'penalty':['l2', 'l1'],\n",
    "              }\n",
    "\n",
    "# For Support Vector Machine\n",
    "parameters_SVC = {\n",
    "              'C':np.arange(0.5, 5.0, 0.1),\n",
    "              'kernel':['linear', 'poly', 'rbf', 'sigmoid'],\n",
    "#               'gamma':[np.arange(0.001,0.005,0.001)],\n",
    "#               'degree':[1,2,3],\n",
    "#               'probability':[True, False],\n",
    "#               'tol':np.arange(0.0001, 0.002, 0.0001),\n",
    "              }\n",
    "\n",
    "# TODO: Initialize the classifier\n",
    "clf = RandomForestClassifier(random_state=SEED)\n",
    "\n",
    "# TODO: Make an f1 scoring function using 'make_scorer' \n",
    "f1_scorer = make_scorer(f1_score, pos_label='yes')\n",
    "\n",
    "# TODO: Perform grid search on the classifier using the \n",
    "# f1_scorer as the scoring method\n",
    "grid_obj = GridSearchCV(clf, parameters, scoring=f1_scorer)\n",
    "\n",
    "# TODO: Fit the grid search object to the training data \n",
    "# and find the optimal parameters\n",
    "grid_obj = grid_obj.fit(X_train, y_train)\n",
    "\n",
    "# Get the estimator\n",
    "clf = grid_obj.best_estimator_\n",
    "\n",
    "# Report the final F1 score for training and testing after parameter tuning\n",
    "print ( \"Tuned model has a training F1 score of {:.4f}.\"\n",
    "       .format(predict_labels(clf, X_train, y_train)) )\n",
    "print ( \"Tuned model has a testing F1 score of {:.4f}.\"\n",
    "       .format(predict_labels(clf, X_test, y_test)) )"
   ]
  },
  {
   "cell_type": "markdown",
   "metadata": {},
   "source": [
    "### Question 5 - Final F<sub>1</sub> Score\n",
    "*What is the final model's F<sub>1</sub> score for training and testing? How does that score compare to the untuned model?*"
   ]
  },
  {
   "cell_type": "markdown",
   "metadata": {},
   "source": [
    "**Answer: **\n",
    "\n",
    "|                  | F1 Score (train) | F1 Score (test) |\n",
    "| :--------------: | :--------------: | :-------------: |\n",
    "|      Tuned       |       1.0000     |     0.7943      |\n",
    "|     Untuned      |       0.9444     |     0.7832      |\n",
    "\n",
    "Oddly enough, the tuned model performs worse. After looking at [this post](https://discussions.udacity.com/t/gridsearch-leading-to-worse-f1-score/164148) in the discussion forums for this project, I learned that this anomaly is due to chance. The data set is small, and the validation method in the grid search indicated that particular parameter set performs better than the default parameter set, but happens to perfrom slightly worse on the test set.\n"
   ]
  },
  {
   "cell_type": "markdown",
   "metadata": {},
   "source": [
    "> **Note**: Once you have completed all of the code implementations and successfully answered each question above, you may finalize your work by exporting the iPython Notebook as an HTML document. You can do this by using the menu above and navigating to  \n",
    "**File -> Download as -> HTML (.html)**. Include the finished document along with this notebook as your submission."
   ]
  }
 ],
 "metadata": {
  "anaconda-cloud": {},
  "kernelspec": {
   "display_name": "Python 2",
   "language": "python",
   "name": "python2"
  },
  "language_info": {
   "codemirror_mode": {
    "name": "ipython",
    "version": 2
   },
   "file_extension": ".py",
   "mimetype": "text/x-python",
   "name": "python",
   "nbconvert_exporter": "python",
   "pygments_lexer": "ipython2",
   "version": "2.7.12"
  }
 },
 "nbformat": 4,
 "nbformat_minor": 0
}
